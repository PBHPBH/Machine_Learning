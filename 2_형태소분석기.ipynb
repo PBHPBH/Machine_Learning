{
  "nbformat": 4,
  "nbformat_minor": 0,
  "metadata": {
    "colab": {
      "name": "2_형태소분석기.ipynb",
      "provenance": [],
      "collapsed_sections": [],
      "authorship_tag": "ABX9TyMlL9mZ3tRl5qG6hB2uO4A7",
      "include_colab_link": true
    },
    "kernelspec": {
      "name": "python3",
      "display_name": "Python 3"
    },
    "language_info": {
      "name": "python"
    }
  },
  "cells": [
    {
      "cell_type": "markdown",
      "metadata": {
        "id": "view-in-github",
        "colab_type": "text"
      },
      "source": [
        "<a href=\"https://colab.research.google.com/github/PBHPBH/Machine_Learning/blob/NLP/2_%ED%98%95%ED%83%9C%EC%86%8C%EB%B6%84%EC%84%9D%EA%B8%B0.ipynb\" target=\"_parent\"><img src=\"https://colab.research.google.com/assets/colab-badge.svg\" alt=\"Open In Colab\"/></a>"
      ]
    },
    {
      "cell_type": "code",
      "metadata": {
        "id": "Zev1tOuYqi0k"
      },
      "source": [
        "# 1. OS업데이트 및 Java설치\n",
        "!apt-get update\n",
        "!apt-get install g++ openjdk-8-jdk"
      ],
      "execution_count": null,
      "outputs": []
    },
    {
      "cell_type": "code",
      "metadata": {
        "id": "zCxzP2zHqpq4"
      },
      "source": [
        "#2. Jpype 설치\n",
        "!pip install JPype1"
      ],
      "execution_count": null,
      "outputs": []
    },
    {
      "cell_type": "code",
      "metadata": {
        "id": "85vSHOT1qtIx"
      },
      "source": [
        "#3. RHINO 설치\n",
        "!pip install rhinoMorph"
      ],
      "execution_count": null,
      "outputs": []
    },
    {
      "cell_type": "code",
      "metadata": {
        "colab": {
          "base_uri": "https://localhost:8080/"
        },
        "id": "5_YF_QXTqv8t",
        "outputId": "0dff8042-56e1-452c-a548-072503bb71c1"
      },
      "source": [
        "#4. RHINO 시작\n",
        "import rhinoMorph\n",
        "rn = rhinoMorph.startRhino()# 사전을 메모리에 로딩. 처음 한 번만 필요.형태소 분석기 객체를 output으로 내\n",
        "text = \"한글로 된 한글텍스트를 분석하는 것은 즐겁다.\"\n",
        "# 사용 1 : 모든 형태소 보이기\n",
        "text_analyzed = rhinoMorph.onlyMorph_list(rn, text)\n",
        "print('\\n1. 형태소 분석 결과:', text_analyzed)\n"
      ],
      "execution_count": null,
      "outputs": [
        {
          "output_type": "stream",
          "text": [
            "filepath:  /usr/local/lib/python3.7/dist-packages\n",
            "classpath:  /usr/local/lib/python3.7/dist-packages/rhinoMorph/lib/rhino.jar\n",
            "JVM is already started~\n",
            "RHINO started!\n",
            "\n",
            "1. 형태소 분석 결과: ['한글', '로', '되', 'ㄴ', '한글', '텍스트', '를', '분석', '하', '는', '것', '은', '즐겁', '다', '.']\n"
          ],
          "name": "stdout"
        }
      ]
    },
    {
      "cell_type": "markdown",
      "metadata": {
        "id": "7dqKcS7xuvsw"
      },
      "source": [
        ""
      ]
    },
    {
      "cell_type": "code",
      "metadata": {
        "colab": {
          "base_uri": "https://localhost:8080/"
        },
        "id": "RlYjF3cLq1Ks",
        "outputId": "64346edd-6c00-4557-f2c7-36945fa72ff4"
      },
      "source": [
        "# 사용 2 : 실질형태소만, 동사의 어말어미는 제외\n",
        "text_analyzed = rhinoMorph.onlyMorph_list(rn, text, pos=['NNG', 'NNP', 'NP', \n",
        "'VV', 'VA', 'XR', 'IC', 'MM', 'MAG', 'MAJ'])\n",
        "print('\\n2. 형태소 분석 결과:', text_analyzed)"
      ],
      "execution_count": null,
      "outputs": [
        {
          "output_type": "stream",
          "text": [
            "\n",
            "2. 형태소 분석 결과: ['한글', '되', '한글', '텍스트', '분석', '즐겁']\n"
          ],
          "name": "stdout"
        }
      ]
    },
    {
      "cell_type": "code",
      "metadata": {
        "colab": {
          "base_uri": "https://localhost:8080/"
        },
        "id": "Y5ipecG5uuK8",
        "outputId": "8f1122e5-f0a5-476e-cd3c-1d3fc54dae85"
      },
      "source": [
        "# 사용 3 : 실질형태소만, 동사의 어말어미 포함\n",
        "text_analyzed = rhinoMorph.onlyMorph_list(rn, text, pos=['NNG', 'NNP', 'NP', \n",
        "'VV', 'VA', 'XR', 'IC', 'MM', 'MAG', 'MAJ'], eomi=True)\n",
        "print('\\n3. 형태소 분석 결과:', text_analyzed)"
      ],
      "execution_count": null,
      "outputs": [
        {
          "output_type": "stream",
          "text": [
            "\n",
            "3. 형태소 분석 결과: ['한글', '되다', '한글', '텍스트', '분석', '즐겁다']\n"
          ],
          "name": "stdout"
        }
      ]
    },
    {
      "cell_type": "code",
      "metadata": {
        "colab": {
          "base_uri": "https://localhost:8080/"
        },
        "id": "AF90HZmHu8DE",
        "outputId": "fbfe5596-18f2-4f3c-9851-610bbcfe0545"
      },
      "source": [
        "# 사용 4 : 전체형태소, 품사정보도 가져 오기\n",
        "morphs, poses = rhinoMorph.wholeResult_list(rn, text)\n",
        "print('\\n4. 형태소 분석 결과:')\n",
        "print('morphs:', morphs)\n",
        "print('poses:', poses)\n"
      ],
      "execution_count": null,
      "outputs": [
        {
          "output_type": "stream",
          "text": [
            "\n",
            "4. 형태소 분석 결과:\n",
            "morphs: ['한글', '로', '되', 'ㄴ', '한글', '텍스트', '를', '분석', '하', '는', '것', '은', '즐겁', '다', '.']\n",
            "poses: ['NNG', 'JKB', 'VV', 'ETM', 'NNG', 'NNG', 'JKO', 'XR', 'XSV', 'ETM', 'NNB', 'JX', 'VA', 'EF', 'SF']\n"
          ],
          "name": "stdout"
        }
      ]
    },
    {
      "cell_type": "code",
      "metadata": {
        "colab": {
          "base_uri": "https://localhost:8080/"
        },
        "id": "kEDHfgJwu-D3",
        "outputId": "615a65ad-4cb4-4ca9-e2c8-686036b2bfa4"
      },
      "source": [
        "# 사용 5 : 원문의 어절 정보를 같이 가져 오기\n",
        "text_analyzed = rhinoMorph.wholeResult_text(rn, text)\n",
        "print('\\n5. 형태소 분석 결과:\\n', text_analyzed)"
      ],
      "execution_count": null,
      "outputs": [
        {
          "output_type": "stream",
          "text": [
            "\n",
            "5. 형태소 분석 결과:\n",
            " 한글로\t한글/NNG + 로/JKB\r\n",
            "된\t되/VV + ㄴ/ETM\r\n",
            "한글텍스트를\t한글/NNG + 텍스트/NNG + 를/JKO\r\n",
            "분석하는\t분석/XR + 하/XSV + 는/ETM\r\n",
            "것은\t것/NNB + 은/JX\r\n",
            "즐겁다\t즐겁/VA + 다/EF\r\n",
            ".\t./SF\r\n",
            "\n"
          ],
          "name": "stdout"
        }
      ]
    },
    {
      "cell_type": "code",
      "metadata": {
        "colab": {
          "base_uri": "https://localhost:8080/"
        },
        "id": "b6QnlFZhvAae",
        "outputId": "705e81af-518f-4b42-f70c-c24301e5151e"
      },
      "source": [
        "# 사용 6, 7 : 한 어절에서 연결된 명사를 하나의 명사로 결합하기\n",
        "# onlyMorph_list와 wholeResult_list에서 사용 가능하다\n",
        "text_analyzed = rhinoMorph.onlyMorph_list(rn, text, pos=['NNG', 'NNP', 'NP', \n",
        "'VV', 'VA', 'XR', 'IC', 'MM', 'MAG', 'MAJ'], combineN=True)\n",
        "print('\\n6. 형태소 분석 결과:\\n', text_analyzed)\n",
        "morphs, poses = rhinoMorph.wholeResult_list(rn, text, combineN=True)\n",
        "print('\\n7. 형태소 분석 결과: ')\n",
        "print('morphs: ', morphs)\n",
        "print('poses: ', poses)"
      ],
      "execution_count": null,
      "outputs": [
        {
          "output_type": "stream",
          "text": [
            "\n",
            "6. 형태소 분석 결과:\n",
            " ['한글', '되', '한글텍스트', '분석', '즐겁']\n",
            "\n",
            "7. 형태소 분석 결과: \n",
            "morphs:  ['한글', '로', '되', 'ㄴ', '한글텍스트', '를', '분석', '하', '는', '것', '은', '즐겁', '다', '.']\n",
            "poses:  ['NNG', 'JKB', 'VV', 'ETM', 'NNG', 'JKO', 'XR', 'XSV', 'ETM', 'NNB', 'JX', 'VA', 'EF', 'SF']\n"
          ],
          "name": "stdout"
        }
      ]
    },
    {
      "cell_type": "code",
      "metadata": {
        "colab": {
          "base_uri": "https://localhost:8080/"
        },
        "id": "0EpIBr2NvCYZ",
        "outputId": "93379d20-ee00-49ac-cfd1-f9cf36b3059f"
      },
      "source": [
        "# 사용 8, 9 : 어근 + 하 형태를 하나의 동사로 출력하기\n",
        "# xrVv 아규먼트가 담당하며, 기본값은 False로서 둘을 분리하여 출력한다\n",
        "# 분리된 어근이 명사인 경우, 명사로 출력된다\n",
        "# onlyMorph_list, wholeResult_list, wholeResult_text 등 모든 함수에서 사용 가능하다\n",
        "text_analyzed = rhinoMorph.wholeResult_list(rn, '사랑합니다')\n",
        "print('\\n8. 형태소 분석 결과: ', text_analyzed)\n",
        "text_analyzed = rhinoMorph.wholeResult_list(rn, '사랑합니다', xrVv=True)\n",
        "print('\\n9. 형태소 분석 결과: ', text_analyzed)"
      ],
      "execution_count": null,
      "outputs": [
        {
          "output_type": "stream",
          "text": [
            "\n",
            "8. 형태소 분석 결과:  (['사랑', '하', 'ㅂ니다'], ['XR', 'XSV', 'EF'])\n",
            "\n",
            "9. 형태소 분석 결과:  (['사랑하', 'ㅂ니다'], ['VV', 'EF'])\n"
          ],
          "name": "stdout"
        }
      ]
    },
    {
      "cell_type": "code",
      "metadata": {
        "id": "tit9hnyEvEk4"
      },
      "source": [
        ""
      ],
      "execution_count": null,
      "outputs": []
    }
  ]
}