{
  "nbformat": 4,
  "nbformat_minor": 0,
  "metadata": {
    "colab": {
      "name": "1_형태소분석기설치.ipynb",
      "provenance": [],
      "mount_file_id": "1fc0g7pUqCVq3aYYpubfIHwXTaUS6563L",
      "authorship_tag": "ABX9TyP8AmxZsuKzYs3wU3yIRxuq",
      "include_colab_link": true
    },
    "kernelspec": {
      "name": "python3",
      "display_name": "Python 3"
    },
    "language_info": {
      "name": "python"
    }
  },
  "cells": [
    {
      "cell_type": "markdown",
      "metadata": {
        "id": "view-in-github",
        "colab_type": "text"
      },
      "source": [
        "<a href=\"https://colab.research.google.com/github/PBHPBH/Machine_Learning/blob/NLP/1_%ED%98%95%ED%83%9C%EC%86%8C%EB%B6%84%EC%84%9D%EA%B8%B0%EC%84%A4%EC%B9%98.ipynb\" target=\"_parent\"><img src=\"https://colab.research.google.com/assets/colab-badge.svg\" alt=\"Open In Colab\"/></a>"
      ]
    },
    {
      "cell_type": "code",
      "metadata": {
        "id": "IiXzZKP-Z7Kg"
      },
      "source": [
        "# 1. OS업데이트 및 Java설치\n",
        "!apt-get update\n",
        "!apt-get install g++ openjdk-8-jdk"
      ],
      "execution_count": null,
      "outputs": []
    },
    {
      "cell_type": "code",
      "metadata": {
        "id": "8Nwzp6c0aJvn"
      },
      "source": [
        "#2. Jpype 설치\n",
        "!pip install JPype1"
      ],
      "execution_count": null,
      "outputs": []
    },
    {
      "cell_type": "code",
      "metadata": {
        "id": "S6cFkNZxacvh"
      },
      "source": [
        "#3. RHINO 설치\n",
        "!pip install rhinoMorph"
      ],
      "execution_count": null,
      "outputs": []
    },
    {
      "cell_type": "code",
      "metadata": {
        "id": "FniQ52A_ag7y"
      },
      "source": [
        "#4. RHINO 시작\n",
        "import rhinoMorph\n",
        "rn = rhinoMorph.startRhino()# 사전을 메모리에 로딩. 처음 한 번만 필요.형태소 분석기 객체를 output으로 내"
      ],
      "execution_count": null,
      "outputs": []
    },
    {
      "cell_type": "code",
      "metadata": {
        "colab": {
          "base_uri": "https://localhost:8080/"
        },
        "id": "6KTH-Yf4a29-",
        "outputId": "42d0a6f1-562b-4cf9-c316-1faecda8f55e"
      },
      "source": [
        "#5. 예문 분석\n",
        "text = \"한글테스트 글을 남겨주세요.\"\n",
        "sample_data = rhinoMorph.onlyMorph_list(rn.text)\n",
        "print"
      ],
      "execution_count": null,
      "outputs": [
        {
          "output_type": "stream",
          "text": [
            "\n",
            "1. 형태소 분석 결과: ['한글', '로', '되', 'ㄴ', '한글', '텍스트', '를', '분석', '하', '는', '것', '은', '즐겁', '다', '.']\n"
          ],
          "name": "stdout"
        }
      ]
    },
    {
      "cell_type": "code",
      "metadata": {
        "colab": {
          "base_uri": "https://localhost:8080/"
        },
        "id": "hoSYO5uSbhMv",
        "outputId": "ac083cdb-6cb5-4216-b889-0da04b14e167"
      },
      "source": [
        ""
      ],
      "execution_count": null,
      "outputs": [
        {
          "output_type": "stream",
          "text": [
            "\n",
            "2. 형태소 분석 결과: ['한글', '되', '한글', '텍스트', '분석', '즐겁']\n"
          ],
          "name": "stdout"
        }
      ]
    },
    {
      "cell_type": "code",
      "metadata": {
        "colab": {
          "base_uri": "https://localhost:8080/"
        },
        "id": "NRpEC4Ysbwwm",
        "outputId": "2320dcdf-bd67-4c85-93bd-760e69b1d748"
      },
      "source": [
        "# 사용 3 : 실질형태소만, 동사의 어말어미 포함\n",
        "text_analyzed = rhinoMorph.onlyMorph_list(rn, text, pos=['NNG', 'NNP', 'NP', \n",
        "'VV', 'VA', 'XR', 'IC', 'MM', 'MAG', 'MAJ'], eomi=True)\n",
        "print('\\n3. 형태소 분석 결과:', text_analyzed)"
      ],
      "execution_count": null,
      "outputs": [
        {
          "output_type": "stream",
          "text": [
            "\n",
            "3. 형태소 분석 결과: ['한글', '되다', '한글', '텍스트', '분석', '즐겁다']\n"
          ],
          "name": "stdout"
        }
      ]
    },
    {
      "cell_type": "code",
      "metadata": {
        "colab": {
          "base_uri": "https://localhost:8080/"
        },
        "id": "Kf86fp3zqCJr",
        "outputId": "db5ba9f8-0168-4c67-c12c-b8d74ecf8988"
      },
      "source": [
        "# 사용 4 : 전체형태소, 품사정보도 가져 오기\n",
        "morphs, poses = rhinoMorph.wholeResult_list(rn, text)\n",
        "print('\\n4. 형태소 분석 결과:')\n",
        "print('morphs:', morphs)\n",
        "print('poses:', poses)"
      ],
      "execution_count": null,
      "outputs": [
        {
          "output_type": "stream",
          "text": [
            "\n",
            "4. 형태소 분석 결과:\n",
            "morphs: ['한글', '로', '되', 'ㄴ', '한글', '텍스트', '를', '분석', '하', '는', '것', '은', '즐겁', '다', '.']\n",
            "poses: ['NNG', 'JKB', 'VV', 'ETM', 'NNG', 'NNG', 'JKO', 'XR', 'XSV', 'ETM', 'NNB', 'JX', 'VA', 'EF', 'SF']\n"
          ],
          "name": "stdout"
        }
      ]
    },
    {
      "cell_type": "code",
      "metadata": {
        "colab": {
          "base_uri": "https://localhost:8080/"
        },
        "id": "mE0YTqUJrQbr",
        "outputId": "40405c1b-4e7c-494b-adc9-8a83c6bc9255"
      },
      "source": [
        "# 사용 5 : 원문의 어절 정보를 같이 가져 오기\n",
        "text_analyzed = rhinoMorph.wholeResult_text(rn, text)\n",
        "print('\\n5. 형태소 분석 결과:\\n', text_analyzed)"
      ],
      "execution_count": null,
      "outputs": [
        {
          "output_type": "stream",
          "text": [
            "\n",
            "5. 형태소 분석 결과:\n",
            " 한글로\t한글/NNG + 로/JKB\r\n",
            "된\t되/VV + ㄴ/ETM\r\n",
            "한글텍스트를\t한글/NNG + 텍스트/NNG + 를/JKO\r\n",
            "분석하는\t분석/XR + 하/XSV + 는/ETM\r\n",
            "것은\t것/NNB + 은/JX\r\n",
            "즐겁다\t즐겁/VA + 다/EF\r\n",
            ".\t./SF\r\n",
            "\n"
          ],
          "name": "stdout"
        }
      ]
    },
    {
      "cell_type": "code",
      "metadata": {
        "colab": {
          "base_uri": "https://localhost:8080/"
        },
        "id": "JWUuAleTrSjZ",
        "outputId": "646f8de4-525d-4ccb-dc41-838039f892db"
      },
      "source": [
        "# 사용 6, 7 : 한 어절에서 연결된 명사를 하나의 명사로 결합하기\n",
        "# onlyMorph_list와 wholeResult_list에서 사용 가능하다\n",
        "text_analyzed = rhinoMorph.onlyMorph_list(rn, text, pos=['NNG', 'NNP', 'NP', \n",
        "'VV', 'VA', 'XR', 'IC', 'MM', 'MAG', 'MAJ'], combineN=True)\n",
        "print('\\n6. 형태소 분석 결과:\\n', text_analyzed)\n",
        "morphs, poses = rhinoMorph.wholeResult_list(rn, text, combineN=True)\n",
        "print('\\n7. 형태소 분석 결과: ')\n",
        "print('morphs: ', morphs)\n",
        "print('poses: ', poses)"
      ],
      "execution_count": null,
      "outputs": [
        {
          "output_type": "stream",
          "text": [
            "\n",
            "6. 형태소 분석 결과:\n",
            " ['한글', '되', '한글텍스트', '분석', '즐겁']\n",
            "\n",
            "7. 형태소 분석 결과: \n",
            "morphs:  ['한글', '로', '되', 'ㄴ', '한글텍스트', '를', '분석', '하', '는', '것', '은', '즐겁', '다', '.']\n",
            "poses:  ['NNG', 'JKB', 'VV', 'ETM', 'NNG', 'JKO', 'XR', 'XSV', 'ETM', 'NNB', 'JX', 'VA', 'EF', 'SF']\n"
          ],
          "name": "stdout"
        }
      ]
    },
    {
      "cell_type": "code",
      "metadata": {
        "colab": {
          "base_uri": "https://localhost:8080/"
        },
        "id": "uhC_0IAvrUWI",
        "outputId": "264e2080-bc46-405e-af44-141cad43e53c"
      },
      "source": [
        "# 사용 8, 9 : 어근 + 하 형태를 하나의 동사로 출력하기\n",
        "# xrVv 아규먼트가 담당하며, 기본값은 False로서 둘을 분리하여 출력한다\n",
        "# 분리된 어근이 명사인 경우, 명사로 출력된다\n",
        "# onlyMorph_list, wholeResult_list, wholeResult_text 등 모든 함수에서 사용 가능하다\n",
        "text_analyzed = rhinoMorph.wholeResult_list(rn, '사랑합니다')\n",
        "print('\\n8. 형태소 분석 결과: ', text_analyzed)\n",
        "text_analyzed = rhinoMorph.wholeResult_list(rn, '사랑합니다', xrVv=True)\n",
        "print('\\n9. 형태소 분석 결과: ', text_analyzed)"
      ],
      "execution_count": null,
      "outputs": [
        {
          "output_type": "stream",
          "text": [
            "\n",
            "8. 형태소 분석 결과:  (['사랑', '하', 'ㅂ니다'], ['XR', 'XSV', 'EF'])\n",
            "\n",
            "9. 형태소 분석 결과:  (['사랑하', 'ㅂ니다'], ['VV', 'EF'])\n"
          ],
          "name": "stdout"
        }
      ]
    },
    {
      "cell_type": "code",
      "metadata": {
        "id": "S2jaO4HyrX-A"
      },
      "source": [
        ""
      ],
      "execution_count": null,
      "outputs": []
    }
  ]
}