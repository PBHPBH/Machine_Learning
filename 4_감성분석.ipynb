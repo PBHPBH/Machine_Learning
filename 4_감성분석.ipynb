{
  "nbformat": 4,
  "nbformat_minor": 0,
  "metadata": {
    "colab": {
      "name": "4_감성분석.ipynb",
      "provenance": [],
      "collapsed_sections": [],
      "mount_file_id": "1IYCQBzHe4YCxVFLJA3NDyj924ucvxaFu",
      "authorship_tag": "ABX9TyP+ph2Rs6EhWQxseI3XH7lw",
      "include_colab_link": true
    },
    "kernelspec": {
      "name": "python3",
      "display_name": "Python 3"
    },
    "language_info": {
      "name": "python"
    }
  },
  "cells": [
    {
      "cell_type": "markdown",
      "metadata": {
        "id": "view-in-github",
        "colab_type": "text"
      },
      "source": [
        "<a href=\"https://colab.research.google.com/github/PBHPBH/Machine_Learning/blob/NLP/4_%EA%B0%90%EC%84%B1%EB%B6%84%EC%84%9D.ipynb\" target=\"_parent\"><img src=\"https://colab.research.google.com/assets/colab-badge.svg\" alt=\"Open In Colab\"/></a>"
      ]
    },
    {
      "cell_type": "code",
      "metadata": {
        "id": "hHCe_96Y9mE5"
      },
      "source": [
        "from google.colab import drive\n",
        "drive.mount('/content/gdrive')"
      ],
      "execution_count": null,
      "outputs": []
    },
    {
      "cell_type": "code",
      "metadata": {
        "id": "b80A-Z-C9rQj"
      },
      "source": [
        "!apt-get update\n",
        "!apt-get install g++ openjdk-8-jdk\n",
        "!pip install JPype1\n",
        "!pip install rhinoMorph"
      ],
      "execution_count": null,
      "outputs": []
    },
    {
      "cell_type": "code",
      "metadata": {
        "id": "DhSPMLUD9rNx"
      },
      "source": [
        "cd /content/drive/MyDrive/pytest"
      ],
      "execution_count": null,
      "outputs": []
    },
    {
      "cell_type": "code",
      "metadata": {
        "id": "dWN7lL0W-TDA"
      },
      "source": [
        "def read_data(filename, encoding='cp949'): # 읽기 함수 정의\n",
        "    with open(filename, 'r', encoding=encoding) as f:\n",
        "        data = [line.split('\\t') for line in f.read().splitlines()]\n",
        "        data = data[1:] # txt 파일의 헤더(id document label)는 제외하기\n",
        "    return data\n",
        "def write_data(data, filename, encoding='cp949'): # 쓰기 함수도 정의\n",
        "    with open(filename, 'w', encoding=encoding) as f:\n",
        "        f.write(data)\n",
        "#data = read_data('/content/gdrive/My Drive/pytest/ratings_small.txt', encoding='cp949')\n",
        "data = read_data('ratings.txt', encoding='cp949') #(긍정 10만, 부정 10만)"
      ],
      "execution_count": null,
      "outputs": []
    },
    {
      "cell_type": "code",
      "metadata": {
        "id": "ZDN3H9B--hp6"
      },
      "source": [
        "ls"
      ],
      "execution_count": null,
      "outputs": []
    },
    {
      "cell_type": "code",
      "metadata": {
        "id": "GVFkiD3X-rpp"
      },
      "source": [
        "import rhinoMorph\n",
        "rn = rhinoMorph.startRhino()\n",
        "\n",
        "morphed_data = ''\n",
        "for data_each in data:\n",
        "    morphed_data_each = rhinoMorph.onlyMorph_list(rn, data_each[1],\n",
        "        pos=['NNG', 'NNP', 'VV', 'VA', 'XR', 'IC', 'MM', 'MAG', 'MAJ'])\n",
        "    joined_data_each = ' '.join(morphed_data_each) # 문자열을 하나로 연결\n",
        "    if joined_data_each: # 내용이 있는 경우만 저장하게 함\n",
        "        morphed_data += data_each[0]+\"\\t\"+joined_data_each+\"\\t\"+data_each[2]+\"\\n\"\n",
        "\n",
        "# 형태소 분석된 파일 저장\n",
        "write_data(morphed_data, 'ratings_morphed.txt', encoding='cp949')"
      ],
      "execution_count": null,
      "outputs": []
    },
    {
      "cell_type": "code",
      "metadata": {
        "id": "c-afiGs9BhLJ"
      },
      "source": [
        "data = read_data('ratings_morphed.txt' , encoding='cp949')\n",
        "print(len(data))\n",
        "print(len(data[0])) \n",
        "print(data[0])"
      ],
      "execution_count": null,
      "outputs": []
    },
    {
      "cell_type": "code",
      "metadata": {
        "id": "lXn4up4GCUg-"
      },
      "source": [
        "data_id = [line[0] for line in data] # 데이터 id\n",
        "data_text = [line[1] for line in data] # 데이터 본문\n",
        "data_senti = [line[2] for line in data] # 데이터 긍부정 부분\n",
        "positive = read_data('positive.txt') # 긍정 감정사전 읽기\n",
        "negative = read_data('negative.txt') # 부정 감정사전 읽기\n",
        "print('positive:', positive)\n",
        "print('negative:', negative)\n",
        "pos_found = []\n",
        "neg_found = []"
      ],
      "execution_count": null,
      "outputs": []
    },
    {
      "cell_type": "code",
      "metadata": {
        "colab": {
          "base_uri": "https://localhost:8080/"
        },
        "id": "ilFKpeFFCX9Y",
        "outputId": "968d6793-255f-4344-ad4a-1701fdcf89d1"
      },
      "source": [
        "def cntWordInLine(data, senti):\n",
        "    senti_found = []\n",
        "    for onedata in data:\n",
        "        oneline_word = onedata.split(' ') # 한 줄의 데이터를 공백 단위로 분리하여 리스트로 저장\n",
        "        senti_temp = 0 # 그 줄에서 발견된 감정단어의 수를 담는 변수\n",
        "        for sentiword in senti: # 감정사전의 어휘\n",
        "            if sentiword[0] in oneline_word: # sentiword[0] 하여 리스트 원소를 문자열로 추출\n",
        "                senti_temp += 1 # 현재의 감정단어와 일치하면 숫자를 하나 올려 줌 (중복X)\n",
        "        senti_found.append(senti_temp) # 현재의 줄에서 찾은 감성단어의 숫자를 해당 위치에 저장\n",
        "    return senti_found\n",
        "\n",
        "data_senti_poscnt = cntWordInLine(data_text, positive) # 발견된 긍정 단어의 숫자 파악\n",
        "data_senti_negcnt = cntWordInLine(data_text, negative) # 발견된 부정 단어의 숫자 파악\n",
        "\n",
        "print(data_senti_poscnt[:20])\n",
        "print(data_senti_negcnt[:20])"
      ],
      "execution_count": null,
      "outputs": [
        {
          "output_type": "stream",
          "text": [
            "[5, 1, 0, 0, 2, 1, 0, 0, 0, 1, 1, 1, 0, 1, 2, 0, 1, 0, 1, 0]\n",
            "[1, 0, 1, 0, 0, 0, 1, 0, 0, 0, 0, 0, 0, 0, 1, 0, 0, 1, 0, 1]\n"
          ],
          "name": "stdout"
        }
      ]
    },
    {
      "cell_type": "code",
      "metadata": {
        "id": "gcywPQF_JxFP"
      },
      "source": [
        "#감정점수 계산\n",
        "# pandas 데이터프레임으로 저장\n",
        "import pandas as pd\n",
        "newdata = pd.DataFrame({'id':data_id, 'text':data_text,'original':data_senti, 'pos':data_senti_poscnt, 'neg':data_senti_negcnt})\n",
        "\n",
        "senti_score = newdata['pos'] - newdata['neg']#긍정 개수에서 부정개수를 뺌\n",
        "newdata['senti_score'] = senti_score# 그 수를 senti_score 컬럼에 저장\n",
        "\n",
        "newdata.loc[newdata.senti_score > 0, 'new']=1#새로운 긍부정 기호\n",
        "newdata.loc[newdata.senti_score <= 0, 'new']=0#새로운 긍부정 기호\n",
        "\n",
        "#처음에 기록된 긍부정과 새로 계산된 긍부정이 같은지 여부를 matched컬럼에 저장\n",
        "#original 컬럼은 문자로 되어 있으므로 숫자로 변환 뒤 비교\n",
        "newdata.loc[pd.to_numeric(newdata.original) == newdata.new, 'matched'] = 'True'\n",
        "newdata.loc[pd.to_numeric(newdata.original) != newdata.new, 'matched'] = 'False'"
      ],
      "execution_count": null,
      "outputs": []
    },
    {
      "cell_type": "code",
      "metadata": {
        "colab": {
          "base_uri": "https://localhost:8080/"
        },
        "id": "G44U7PkGOcCQ",
        "outputId": "b5a29032-6e2d-46b7-83bc-3671aef278e6"
      },
      "source": [
        "#원점수 와 비교 및 저장\n",
        "score = newdata.matched.str.count('True').sum()/(newdata.matched.str.count('True').sum()+newdata.matched.str.count('false').sum())* 100\n",
        "print(score)\n",
        "\n",
        "newdata.to_csv('newfile.csv', sep=',', encoding='cp949', index=False)#CSV저장\n",
        "newdata.to_csv('newfile2.txt', sep='\\t',encoding='cp949', index=False)#또는 txt저장"
      ],
      "execution_count": null,
      "outputs": [
        {
          "output_type": "stream",
          "text": [
            "100.0\n"
          ],
          "name": "stdout"
        }
      ]
    },
    {
      "cell_type": "code",
      "metadata": {
        "id": "iYyguPgkPbmT"
      },
      "source": [
        "#시그모이드 점수 계산\n",
        "import math\n",
        "def sigmoid(x):\n",
        "    return 1 / (1 + math.exp(-x))\n",
        "newdata['sigmoid'] = newdata.senti_score.apply(sigmoid)\n"
      ],
      "execution_count": null,
      "outputs": []
    },
    {
      "cell_type": "code",
      "metadata": {
        "colab": {
          "base_uri": "https://localhost:8080/",
          "height": 438
        },
        "id": "ss27rlGzPmyj",
        "outputId": "272f151d-bb91-43d6-ec83-67fe3afe200c"
      },
      "source": [
        "#결과 확인\n",
        "newdata.head()"
      ],
      "execution_count": null,
      "outputs": [
        {
          "output_type": "execute_result",
          "data": {
            "text/html": [
              "<div>\n",
              "<style scoped>\n",
              "    .dataframe tbody tr th:only-of-type {\n",
              "        vertical-align: middle;\n",
              "    }\n",
              "\n",
              "    .dataframe tbody tr th {\n",
              "        vertical-align: top;\n",
              "    }\n",
              "\n",
              "    .dataframe thead th {\n",
              "        text-align: right;\n",
              "    }\n",
              "</style>\n",
              "<table border=\"1\" class=\"dataframe\">\n",
              "  <thead>\n",
              "    <tr style=\"text-align: right;\">\n",
              "      <th></th>\n",
              "      <th>id</th>\n",
              "      <th>text</th>\n",
              "      <th>original</th>\n",
              "      <th>pos</th>\n",
              "      <th>neg</th>\n",
              "      <th>senti_score</th>\n",
              "      <th>new</th>\n",
              "      <th>matched</th>\n",
              "      <th>sigmoid</th>\n",
              "    </tr>\n",
              "  </thead>\n",
              "  <tbody>\n",
              "    <tr>\n",
              "      <th>0</th>\n",
              "      <td>8132799</td>\n",
              "      <td>디자인 배우 학생 외국 디자이너 일구 전통 통하 발전 문화 산업 부럽 사실 우리나라...</td>\n",
              "      <td>1</td>\n",
              "      <td>5</td>\n",
              "      <td>1</td>\n",
              "      <td>4</td>\n",
              "      <td>1.0</td>\n",
              "      <td>True</td>\n",
              "      <td>0.982014</td>\n",
              "    </tr>\n",
              "    <tr>\n",
              "      <th>1</th>\n",
              "      <td>4655635</td>\n",
              "      <td>폴리스스토리 시리즈 뉴 없 최고</td>\n",
              "      <td>1</td>\n",
              "      <td>1</td>\n",
              "      <td>0</td>\n",
              "      <td>1</td>\n",
              "      <td>1.0</td>\n",
              "      <td>True</td>\n",
              "      <td>0.731059</td>\n",
              "    </tr>\n",
              "    <tr>\n",
              "      <th>2</th>\n",
              "      <td>9251303</td>\n",
              "      <td>와 연기 진짜 쩔 지루 생각하 몰입 그래 이런 진짜 영화</td>\n",
              "      <td>1</td>\n",
              "      <td>0</td>\n",
              "      <td>1</td>\n",
              "      <td>-1</td>\n",
              "      <td>0.0</td>\n",
              "      <td>False</td>\n",
              "      <td>0.268941</td>\n",
              "    </tr>\n",
              "    <tr>\n",
              "      <th>3</th>\n",
              "      <td>10067386</td>\n",
              "      <td>안개 자욱 하 밤하늘 뜨 초승달 같 영화</td>\n",
              "      <td>1</td>\n",
              "      <td>0</td>\n",
              "      <td>0</td>\n",
              "      <td>0</td>\n",
              "      <td>0.0</td>\n",
              "      <td>False</td>\n",
              "      <td>0.500000</td>\n",
              "    </tr>\n",
              "    <tr>\n",
              "      <th>4</th>\n",
              "      <td>2190435</td>\n",
              "      <td>사랑 해보 사람 처음 끝 웃 있 영화</td>\n",
              "      <td>1</td>\n",
              "      <td>2</td>\n",
              "      <td>0</td>\n",
              "      <td>2</td>\n",
              "      <td>1.0</td>\n",
              "      <td>True</td>\n",
              "      <td>0.880797</td>\n",
              "    </tr>\n",
              "  </tbody>\n",
              "</table>\n",
              "</div>"
            ],
            "text/plain": [
              "         id  ...   sigmoid\n",
              "0   8132799  ...  0.982014\n",
              "1   4655635  ...  0.731059\n",
              "2   9251303  ...  0.268941\n",
              "3  10067386  ...  0.500000\n",
              "4   2190435  ...  0.880797\n",
              "\n",
              "[5 rows x 9 columns]"
            ]
          },
          "metadata": {
            "tags": []
          },
          "execution_count": 26
        }
      ]
    },
    {
      "cell_type": "code",
      "metadata": {
        "id": "0FxV1TpxP2wI"
      },
      "source": [
        "################################################################################################################################################################################################"
      ],
      "execution_count": null,
      "outputs": []
    },
    {
      "cell_type": "code",
      "metadata": {
        "colab": {
          "base_uri": "https://localhost:8080/"
        },
        "id": "KwiuZP2-lbpH",
        "outputId": "088570de-8923-4795-9636-24b07b72a489"
      },
      "source": [
        "ls"
      ],
      "execution_count": null,
      "outputs": [
        {
          "output_type": "stream",
          "text": [
            "\u001b[0m\u001b[01;34m네이버뉴스-생활문화_다중\u001b[0m/  \u001b[01;34mkor-eng\u001b[0m/      pytest_position.png  test.csv\n",
            "\u001b[01;34maclImdb_v1_small\u001b[0m/          negative.txt  ratings_morphed.txt  김소월시.txt\n",
            "alice.png                  newfile2.txt  ratings_small.txt    윤동주시.txt\n",
            "\u001b[01;34mfra-eng\u001b[0m/                   newfile.csv   ratings.txt          wiki_test.txt\n",
            "iris.csv                   positive.txt  \u001b[01;34msimilarity\u001b[0m/          \u001b[01;34mword2vec\u001b[0m/\n"
          ],
          "name": "stdout"
        }
      ]
    },
    {
      "cell_type": "code",
      "metadata": {
        "colab": {
          "base_uri": "https://localhost:8080/"
        },
        "id": "8PW3U0TKlcWN",
        "outputId": "61d0d088-7031-45dc-ee65-b3fc9b39cace"
      },
      "source": [
        "def read_data(filename, encoding='cp949'): # 읽기 함수 정의\n",
        "    with open(filename, 'r', encoding=encoding) as f:\n",
        "        data = [line.split('\\t') for line in f.read().splitlines()]\n",
        "        data = data[1:] # txt 파일의 헤더(id document label)는 제외하기\n",
        "    return data\n",
        "def write_data(data, filename, encoding='cp949'): # 쓰기 함수 정의\n",
        "    with open(filename, 'w', encoding=encoding) as f:\n",
        "        f.write(data)\n",
        "\n",
        "data = read_data('ratings_morphed.txt' , encoding='cp949')\n",
        "print(len(data))\n",
        "print(len(data[0])) \n",
        "print(data[0])"
      ],
      "execution_count": null,
      "outputs": [
        {
          "output_type": "stream",
          "text": [
            "197513\n",
            "3\n",
            "['8132799', '디자인 배우 학생 외국 디자이너 일구 전통 통하 발전 문화 산업 부럽 사실 우리나라 그 어렵 시절 끝 열정 지키 노라노 같 전통 있 같 사람 꿈 꾸 이루 나가 있 감사', '1']\n"
          ],
          "name": "stdout"
        }
      ]
    },
    {
      "cell_type": "code",
      "metadata": {
        "colab": {
          "base_uri": "https://localhost:8080/"
        },
        "id": "nGWhfpIbmGq6",
        "outputId": "bba9798f-0b8b-4d20-a11f-49c56cdd1c53"
      },
      "source": [
        "#훈련데이터와 테스트데이터 분리(자동)\n",
        "data_text = [line[1] for line in data]#데이터 본문\n",
        "data_senti = [line[2] for line in data] # 데이터 긍부정 부분\n",
        "\n",
        "from sklearn.model_selection import train_test_split # 본문과 라벨을 각각 분리\n",
        "train_data_text, test_data_text, train_data_senti, test_data_senti = train_test_split(data_text, data_senti, stratify=data_senti)\n",
        "\n",
        "# Counter 클래스를 이용해 각 분류가 훈련데이터와 테스트데이터에 같은 비율로 들어갔는지 확인해 본다\n",
        "from collections import Counter\n",
        "train_data_senti_freq = Counter(train_data_senti)\n",
        "print('train_data_senti_freq:', train_data_senti_freq)\n",
        "\n",
        "test_data_senti_freq = Counter(test_data_senti)\n",
        "print('test_data_senti_freq:', test_data_senti_freq)"
      ],
      "execution_count": null,
      "outputs": [
        {
          "output_type": "stream",
          "text": [
            "train_data_senti_freq: Counter({'1': 74097, '0': 74037})\n",
            "test_data_senti_freq: Counter({'1': 24699, '0': 24680})\n"
          ],
          "name": "stdout"
        }
      ]
    },
    {
      "cell_type": "code",
      "metadata": {
        "colab": {
          "base_uri": "https://localhost:8080/"
        },
        "id": "vvJMIu67oMEQ",
        "outputId": "01667fb1-e972-40bb-a276-d9917927ef6b"
      },
      "source": [
        "#훈련데이터와 테스트데이터 분리(수동)\n",
        "import random\n",
        "random.shuffle(data) # 랜덤하게 섞는다\n",
        "\n",
        "data_70 = int(len(data)*0.7) # 전체 데이터 크기의 70% 숫자를 찾는다\n",
        "train_data = data[:data_70] # 앞에서 70% 부분을 잘라 훈련데이터로\n",
        "test_data = data[data_70:] # 그 뒷부분을 테스트데이터로\n",
        "\n",
        "print('train data length:', len(train_data)) # 138079\n",
        "print('test data length:', len(test_data)) # 59178\n",
        "\n",
        "# 훈련데이터 요소 분리\n",
        "train_data_text = [line[1] for line in train_data] # 훈련데이터 본문\n",
        "train_data_senti = [line[2] for line in train_data] # 훈련데이터 긍부정 부분\n",
        "\n",
        "# 테스트데이터 요소 분리\n",
        "test_data_text = [line[1] for line in test_data] # 테스트데이터 본문\n",
        "test_data_senti = [line[2] for line in test_data] # 테스트데이터 긍부정 부분"
      ],
      "execution_count": null,
      "outputs": [
        {
          "output_type": "stream",
          "text": [
            "train data length: 138259\n",
            "test data length: 59254\n"
          ],
          "name": "stdout"
        }
      ]
    },
    {
      "cell_type": "code",
      "metadata": {
        "colab": {
          "base_uri": "https://localhost:8080/"
        },
        "id": "unfBx5UQobrV",
        "outputId": "dca2c3fe-0c61-4c05-a105-e461d8f5063d"
      },
      "source": [
        "#행렬형태로 변환\n",
        "from sklearn.feature_extraction.text import CountVectorizer\n",
        "vect = CountVectorizer(min_df=5).fit(train_data_text) # 최소 문서 빈도 5이상의 단어만 대상\n",
        "X_train = vect.transform(train_data_text) # 행렬 생성\n",
        "print(\"X_train:\\n\", repr(X_train)) "
      ],
      "execution_count": null,
      "outputs": [
        {
          "output_type": "stream",
          "text": [
            "X_train:\n",
            " <138259x11298 sparse matrix of type '<class 'numpy.int64'>'\n",
            "\twith 766107 stored elements in Compressed Sparse Row format>\n"
          ],
          "name": "stdout"
        }
      ]
    },
    {
      "cell_type": "code",
      "metadata": {
        "colab": {
          "base_uri": "https://localhost:8080/"
        },
        "id": "ltk3jmHTozph",
        "outputId": "eeb25c90-7a6f-4dad-8a70-23221fc46f5e"
      },
      "source": [
        "#행렬내용 관찰\n",
        "feature_names = vect.get_feature_names()\n",
        "print(\"특성 개수:\", len(feature_names))\n",
        "print(\"처음 20개 특성:\\m\", feature_names[:20])\n",
        "print(\"3000~5000까지의 특성:\\n\", feature_names[3000:5000])"
      ],
      "execution_count": null,
      "outputs": [
        {
          "output_type": "stream",
          "text": [
            "특성 개수: 11298\n",
            "처음 20개 특성:\\m ['10점', '1빠', 'ai', 'cgv', 'ebs', 'kbs', 'la', 'mb', 'mbc', 'naver', 'ok', 'sbs', 'sns', 'tv', 'ㄴㄴ', 'ㄷㄷ', 'ㅂㄷㅂㄷ', 'ㅂㅅ', 'ㅅㅂ', 'ㅇㅇ']\n",
            "3000~5000까지의 특성:\n",
            " ['마찬가지', '마초', '마치', '마침', '마침내', '마케팅', '마크', '마키', '마트', '마틴', '마틴스', '마틸다', '마피아', '막가', '막가파', '막걸리', '막내', '막대', '막되', '막막', '막말', '막무가내', '막바지', '막상', '막스', '막심', '막연', '막장', '막지', '막판', '막히', '만가', '만개', '만그', '만끽', '만나', '만날', '만남', '만년', '만능', '만담', '만두', '만들', '만듦새', '만땅', '만만', '만명', '만발', '만보', '만사', '만세', '만약', '만인', '만점', '만족', '만족감', '만주', '만지', '만찬', '만하', '만해', '만행', '만화', '만화가', '만화영화', '만화책', '만회', '많이', '말기', '말길', '말년', '말랑말랑', '말로', '말론', '말리', '말세', '말씀', '말아먹', '말없이', '말입', '말자', '말장난', '말종', '말초신경', '말코비치', '말콤', '말타', '말투', '말하', '말하기', '말해', '맘껏', '맘대로', '맘마', '맘마미아', '맘속', '맙소사', '맛깔', '맛보', '맛없', '맛있', '맛집', '망가', '망가지', '망각', '망상', '망설이', '망설임', '망신', '망인', '망쳐놓', '망치', '망하', '맞먹', '맞물리', '맞서', '맞아떨어지', '맞이', '맞추', '맞춤', '맡기', '매개체', '매국노', '매기', '매끄럽', '매너', '매너리즘', '매년', '매니아', '매니저', '매달', '매달리', '매도', '매드', '매들린', '매력', '매력적', '매료', '매매', '매미', '매번', '매수', '매염방', '매우', '매운맛', '매일', '매일매일', '매장', '매주', '매직', '매진', '매체', '매춘부', '매치', '매튜', '매트릭스', '매한가지', '매혹', '매혹적', '매회', '맥과이어', '맥그리거', '맥라이언', '맥락', '맥빠지', '맥스', '맥아', '맥아더', '맥없', '맥이', '맥주', '맥클레인', '맨날', '맨들', '맨디', '맨몸', '맨발', '맨인블랙', '맨홀', '맴돌', '맴버', '맹꽁', '맹맹', '맹목적', '맹세', '맹인', '맹탕', '맺히', '머금', '머니', '머레이', '머리', '머리카락', '머리털', '머릿', '머릿속', '머물', '머신', '머이', '머저리', '머피', '먹고살', '먹먹', '먹방', '먹음직', '먹이', '먹칠', '먹히', '먼데', '먼로', '먼저', '먼지', '멀더', '멀리', '멀리서', '멀미', '멀쩡', '멀쩡히', '멀티', '멈추', '멋대로', '멋들어지', '멋모르', '멋있', '멋지', '멍멍이', '멍청', '멍청이', '멍하', '멍하니', '메가', '메가박스', '메가폰', '메기', '메디컬', '메르스', '메리', '메릴', '메마르', '메멘토', '메모리', '메세', '메세지', '메소드', '메시지', '메오', '메우', '메이', '메이드', '메이저', '메이퀸', '메이킹', '메이트', '메인', '메일', '메카', '메카닉', '메타포', '멕시코', '멘스', '멘탈', '멘토', '멘트', '멜라니', '멜로', '멜로드라마', '멜로디', '멜로물', '멜리사', '멤버', '며느리', '며칠', '면도', '면모', '면상', '면하', '면허', '멸망', '멸종', '명감독', '명계남', '명곡', '명과', '명관', '명대사', '명도', '명랑', '명량', '명목', '명민', '명배우', '명백', '명복', '명분', '명색', '명성', '명심', '명언', '명에', '명연', '명연기', '명예', '명인', '명작', '명장', '명장면', '명절', '명치', '명탐정', '명품', '명함', '명화', '명확', '명확히', '몇몇', '몇일', '모가지', '모건', '모기', '모녀', '모니', '모니카', '모니터', '모던', '모델', '모독', '모독이', '모두', '모드', '모든', '모래', '모래시계', '모레', '모로', '모르', '모리', '모방', '모범', '모범적', '모성', '모성애', '모세', '모션', '모순', '모스', '모습', '모시', '모야', '모양', '모양새', '모어', '모에', '모욕', '모욕감', '모으', '모음집', '모이', '모임', '모자', '모자라', '모자람', '모자르', '모자이크', '모정', '모조리', '모지', '모짜르트', '모차르트', '모처럼', '모태', '모텔', '모토', '모티브', '모험', '모호', '목격', '목록', '목마르', '목사', '목소리', '목숨', '목요일', '목욕', '목욕탕', '목적', '목표', '몬스터', '몰두', '몰라보', '몰락', '몰래', '몰려오', '몰르', '몰리', '몰살', '몰상식', '몰아', '몰아가', '몰아넣', '몰아치', '몰이', '몰입', '몰입감', '몰입도', '몸매', '몸부림', '몸소', '몸짓', '몸파', '몹시', '못나', '못난이', '못내', '못되', '못살', '못생기', '못쓰', '못지않', '못하', '몽골', '몽둥이', '몽땅', '몽롱', '몽정기', '몽키', '몽환적', '묘미', '묘사', '묘하', '무간', '무감각', '무개', '무겁', '무게', '무게감', '무고', '무공', '무관', '무관심', '무교', '무기', '무기력', '무난', '무난히', '무너뜨리', '무너지', '무뇌아', '무능', '무능력', '무당', '무대', '무덤', '무덤덤', '무덥', '무도', '무디', '무라', '무라카미', '무려', '무력', '무례', '무료', '무릎', '무릎팍', '무리', '무리수', '무림', '무명', '무모', '무미', '무미건조', '무방', '무법자', '무분별', '무비', '무사', '무산', '무상', '무색', '무서', '무서움', '무서워하', '무섭', '무성', '무성영화', '무성의', '무수히', '무술', '무스', '무슨', '무시', '무시무시', '무식', '무신론자', '무심', '무심코', '무쌍', '무안', '무언', '무얼', '무엇', '무용', '무의미', '무의식', '무의식적', '무인도', '무자', '무자비', '무자식', '무작정', '무장', '무적', '무전', '무정', '무조', '무조건', '무조건적', '무죄', '무지', '무지개', '무지막지', '무진장', '무찌르', '무차별', '무참히', '무책임', '무척', '무턱대고', '무표정', '무한', '무협', '무협물', '묵념', '묵묵히', '묵직', '묶이', '문구', '문근영', '문득', '문득문득', '문란', '문명', '문방구', '문법', '문성근', '문소리', '문어', '문외한', '문자', '문장', '문정희', '문제', '문제없', '문제작', '문제점', '문제지', '문채원', '문학', '문학관', '문학적', '문화', '문화적', '묻어나', '묻히', '물건', '물결', '물고기', '물들', '물량', '물론', '물리', '물리치', '물보', '물속', '물씬', '물어내', '물어보', '물음', '물음표', '물의', '물질', '물질적', '물체', '물타기', '뭉치', '뭉클', '뭍히', '뭐야', '뭐어', '뭣하', '뮤비', '뮤지션', '뮤지컬', '뮤직', '뮤직비디오', '뮬란', '미가', '미개', '미국', '미국인', '미국판', '미군', '미끼', '미나', '미남', '미녀', '미니', '미달', '미덕', '미도', '미드', '미들', '미디어', '미라', '미란', '미란다', '미래', '미련', '미로', '미루', '미리', '미만', '미모', '미묘', '미미', '미사', '미사일', '미생', '미성년', '미성년자', '미성숙', '미세스', '미셀', '미션', '미션임파서블', '미셸', '미소', '미숙', '미술', '미술관', '미쉘', '미스', '미스터', '미스터리', '미스테리', '미신', '미쓰', '미아', '미안', '미야자키', '미약', '미어', '미어지', '미에', '미완성', '미움', '미워하', '미이라', '미인', '미자', '미장센', '미쟝센', '미저리', '미적지근', '미제', '미지', '미지근', '미진', '미처', '미쳐', '미취학', '미치', '미치광이', '미친년', '미친놈', '미켈슨', '미키', '미필', '미학', '미학적', '미화', '미흡', '믹스', '민간인', '민감', '민국', '민들레', '민망', '민비', '민세연', '민수', '민아', '민영화', '민이', '민정', '민족', '민주', '민주주의', '민주화', '민중', '민폐', '민호', '믿기', '믿음', '밀당', '밀도', '밀라', '밀러', '밀레니엄', '밀려오', '밀리', '밀양', '밀어붙이', '밀어주', '밀폐', '밉상', '밋밋', '밍밍', '밑바닥', '밑바탕', '바가지', '바꾸', '바꾸기', '바꿔주', '바뀌', '바네사', '바늘', '바니', '바닐라', '바다', '바닥', '바닷가', '바닷속', '바둑', '바디', '바라', '바라보', '바라지', '바람', '바람나', '바람둥이', '바람직', '바래', '바램', '바로', '바로잡', '바르', '바르뎀', '바리', '바바라', '바보', '바비', '바쁘', '바스코', '바우어', '바위', '바이', '바이러스', '바이블', '바이오', '바이올린', '바인', '바지', '바치', '바퀴벌레', '바탕', '바토', '바티스타', '바티칸', '바흐', '박건', '박근형', '박근혜', '박기웅', '박력', '박멸', '박물관', '박민영', '박보영', '박사', '박살', '박상민', '박상원', '박선영', '박성웅', '박수', '박스', '박스오피스', '박시환', '박신혜', '박영규', '박영진', '박예진', '박용우', '박용하', '박유천', '박은혜', '박자', '박장대소', '박재범', '박재정', '박정민', '박정철', '박정희', '박준형', '박중훈', '박쥐', '박지성', '박지윤', '박진감', '박진영', '박진희', '박차', '박찬욱', '박철민', '박철수', '박평식', '박하', '박하사탕', '박한', '박해일', '박해진', '박현지', '박형식', '박희순', '박히', '반감', '반갑', '반격', '반공', '반담', '반대', '반대인', '반대편', '반대하', '반데라스', '반도', '반동', '반드시', '반란', '반려', '반말', '반면', '반반', '반복', '반사', '반성', '반성하', '반성해', '반세기', '반열', '반영', '반영한', '반올림', '반응', '반응하', '반의', '반장', '반전', '반점', '반정부', '반죽', '반지', '반짝', '반짝이', '반쪽', '반찬', '반하', '반할', '반함', '반항', '반환', '받아들이', '받치', '발가락', '발견', '발광', '발기', '발끝', '발단', '발달', '발동', '발라', '발랄', '발레', '발로', '발리', '발매', '발목', '발버둥', '발사', '발산', '발상', '발생', '발성', '발악', '발암', '발언', '발음', '발자국', '발전', '발정', '발차기', '발칙', '발톱', '발표', '발하', '발현', '발휘', '밝히', '밤새', '밥맛', '밥상', '밥통', '방가', '방구', '방금', '방금보', '방대', '방문', '방법', '방사능', '방송', '방송국', '방송사', '방송인', '방식', '방어', '방영', '방영하', '방영한', '방영해', '방울', '방울방울', '방이', '방자', '방지', '방청객', '방치', '방콕', '방하', '방학', '방해', '방향', '방화', '방황', '배가', '배경', '배경음악', '배경지식', '배고프', '배급', '배급사', '배기', '배꼽', '배달', '배달부', '배두나', '배드', '배려', '배부르', '배설', '배속', '배수빈', '배신', '배신감', '배신자', '배역', '배역도', '배용준', '배우', '배우자', '배우중', '배우진', '배제', '배제하', '배종옥', '배짱', '배창호', '배출', '배치', '배타', '배트맨', '배틀', '배포', '백도빈', '백동수', '백미', '백발', '백배', '백번', '백설공주', '백성', '백성현', '백수', '백악관', '백야', '백윤식', '백인', '백인우', '백제', '백조', '백진희', '백투더', '백혈병', '백화점', '밴드', '밸런스', '뱀파이어', '뱃속', '뱅뱅', '뱅크', '버겁', '버그', '버그만', '버금가', '버드', '버디', '버러지', '버릇', '버리', '버림받', '버마', '버무리', '버블', '버스', '버전', '버젓이', '버지니아', '버킷', '버터', '버트', '버튼', '버틀러', '버티', '버프', '버호벤', '벅스', '벅차', '벅차오르', '번개', '번뜩이', '번역', '번외', '번지', '번지르르', '번하', '번호', '벌거벗', '벌레', '벌리', '벌벌', '벌써', '벌어', '벌어지', '벌이', '범람', '범벅', '범수', '범위', '범인', '범죄', '범죄자', '범주', '법사', '법인', '법적', '법정', '법칙', '벗기', '벗어나', '벙어리', '벙커', '벚꽃', '베끼', '베끼기', '베네딕트', '베니', '베니스', '베닝', '베드', '베드신', '베르', '베를린', '베리', '베리굿', '베송', '베스트', '베스트극장', '베스트셀러', '베아', '베어', '베이', '베이더', '베이비', '베이스', '베이커', '베이컨', '베인', '베일', '베테랑', '베토벤', '베트남', '베트남전', '베트남전쟁', '베티', '베풀', '벡터', '벤더', '벤더스', '벤자민', '벤허', '벨라', '벨트', '벼랑', '변강쇠', '변경', '변기', '변명', '변신', '변요한', '변장', '변종', '변주', '변질', '변태', '변태성', '변태영', '변태적', '변하', '변한', '변함없', '변형', '변호', '변호사', '변호인', '변화', '변환', '별개', '별거', '별것', '별다르', '별도', '별로', '별론', '별명', '별반', '별볼일', '별생각', '별은', '별이', '별점', '병기', '병동', '병들', '병사', '병실', '병아리', '병원', '병자', '병장', '병폐', '병풍', '병헌', '보고', '보고서', '보관', '보그', '보기', '보내', '보너스', '보도', '보드', '보듬', '보디가드', '보라', '보람', '보물', '보복', '보살', '보살피', '보상', '보석', '보성', '보수', '보수적', '보스', '보신', '보심', '보여주', '보완', '보이', '보이스', '보인', '보일', '보잘것', '보장', '보정', '보존', '보증', '보지', '보충', '보태', '보통', '보통이', '보트', '보편적', '보합', '보호', '복고', '복귀', '복도', '복사', '복선', '복수', '복수심', '복수초', '복습', '복싱', '복원', '복음', '복잡', '복장', '복제', '복지', '복합적', '본거', '본거지', '본건', '본격', '본격적', '본기', '본능', '본능적', '본드', '본래', '본받', '본방', '본보기', '본분', '본사', '본성', '본시', '본업', '본연', '본영', '본의', '본인', '본전', '본질', '본질적', '본토', '본편', '볼거리', '볼륨', '볼만하', '볼일', '볼타', '볼트', '볼품없', '봄날', '봄여름', '봉만대', '봉사', '봉원', '봉인', '봉준호', '봉태', '봐주', '부각', '부기', '부끄러움', '부끄럽', '부녀', '부다페스트', '부담', '부당', '부대', '부도', '부드럽', '부들부들', '부디', '부딪치', '부러', '부러움', '부러지', '부럽', '부류', '부르', '부르기', '부르스', '부르짖', '부릉부릉', '부리', '부모', '부부', '부부간', '부부들', '부분', '부사장', '부산', '부상', '부서지', '부성애', '부세미', '부셔', '부수', '부술', '부스', '부시', '부시맨', '부실', '부엉이', '부여', '부유', '부의', '부인', '부자', '부자연', '부작', '부작용', '부잣집', '부장', '부재', '부적절', '부정', '부정적', '부제', '부조리', '부조화', '부족', '부진', '부질없', '부처', '부천', '부추기', '부치', '부탁', '부트', '부패', '부풀', '부풀리', '부하', '부활', '북괴', '북극', '북미', '북받치', '북한', '북한인', '분간', '분노', '분단', '분단국가', '분량', '분류', '분리수거', '분만', '분명', '분명히', '분발', '분별', '분석', '분쇄기', '분신', '분야', '분열', '분위', '분위기', '분임', '분장', '분전', '분투', '분하', '불가', '불가능', '불가사의', '불감증', '불공평', '불과', '불교', '불구', '불꽃', '불량', '불러오', '불러일으키', '불륜', '불리', '불리우', '불만', '불면', '불면증', '불멸', '불명', '불문', '불법', '불변', '불복', '불사신', '불사조', '불상', '불신', '불쌍', '불안', '불안감', '불안정', '불완전', '불우', '불운', '불치병', '불친절', '불쾌', '불쾌감', '불타', '불태우', '불편', '불평', '불필요', '불행', '불허', '불협화음', '불확실', '불후', '붉은', '붉히', '붓다', '붕괴', '붕붕', '붙이', '붙잡', '뷰티', '브라더스', '브라보', '브라운', '브라운관', '브라이언', '브라질', '브란도', '브래드', '브래들리', '브랜드', '브레드', '브레이크', '브렌든', '브로드웨이', '브로스넌', '브루스', '브룩', '브리', '브리지스', '브리짓', '브리트니', '브이', '블라인드', '블랑', '블랙', '블랙리스트', '블랙코미디', '블랙홀', '블러드', '블럭', '블레어', '블레이드', '블로그', '블록', '블록버스터', '블루', '블룸', '비겁', '비견', '비교', '비교적', '비극', '비극적', '비기', '비꼬', '비난', '비노쉬', '비도', '비둘기', '비디오', '비디오물', '비디오방', '비디오테이프', '비뚤어지', '비로소', '비록', '비롯', '비루', '비리', '비만', '비명', '비밀', '비밥', '비범', '비보', '비비', '비서', '비슷', '비슷비슷', '비싸', '비씨', '비애', '비약', '비열', '비용', '비우', '비운', '비웃', '비웃음', '비위', '비유', '비율', '비의', '비장', '비전', '비정', '비정상', '비정상적', '비정상회담', '비주류', '비주얼', '비중', '비지', '비참', '비추', '비추천', '비치', '비키', '비키니', '비토', '비트', '비틀', '비틀즈', '비판', '비판적', '비평', '비평가', '비포', '비하', '비행', '비행기', '비현실적', '비호', '비화', '빅뱅', '빅터', '빅토리아', '빈곤', '빈번', '빈부', '빈센트', '빈스', '빈약', '빈자리', '빈틈', '빌딩', '빌리', '빌어먹을', '빗나가', '빗대', '빙빙', '빙의', '빙자', '빙하', '빚어내', '빚어지', '빛나', '빛내', '빠가', '빠다', '빠돌이', '빠르', '빠리', '빠순이', '빠이', '빠져나', '빠져나오', '빠져들', '빠지', '빠지지', '빠짐없이', '빤스', '빤히', '빨간', '빨강', '빨갛', '빨갱이', '빨랑', '빨리', '빨리빨리', '빨아먹', '빵빵', '빵점', '빼놓', '빼먹', '빼앗', '빼앗기', '빼어나', '뺏기', '뺑소니', '뺨치', '뻐꾸기', '뻔뻔', '뻔하', '뻔히', '뻗치', '뻣뻣', '뻥튀기', '뼈저리', '뽀뽀', '뽐내', '뽑아내', '뽑히', '뽕짝', '뿌듯', '뿌리', '뿜어내', '삐딱', '삐뚤어지', '사가', '사간', '사건', '사격', '사고', '사고방식', '사골', '사과', '사귀', '사극', '사기', '사기극', '사나이', '사납', '사내', '사냥', '사다리', '사단', '사라', '사라지', '사람', '사랑', '사랑하', '사례', '사로', '사로잡', '사로잡히', '사료', '사리', '사막', '사망', '사명', '사무', '사무라이', '사무실', '사무엘', '사무치', '사뭇', '사바', '사발', '사보', '사부', '사사키', '사살', '사상', '사색', '사생아', '사생활', '사세', '사소', '사수', '사스', '사슴', '사신', '사실', '사실감', '사실은', '사실적', '사악', '사양', '사업', '사연', '사용', '사운드', '사운드트랙', '사원', '사위', '사유', '사의', '사이', '사이다', '사이렌', '사이먼', '사이버', '사이보그', '사이비', '사이사이', '사이코', '사이트', '사자', '사장', '사적', '사전', '사정', '사족', '사죄', '사주', '사진', '사채', '사채업자', '사촌', '사춘기', '사치', '사카모토', '사탄', '사탕', '사태', '사토', '사토시', '사투', '사투리', '사파리', '사하', '사형', '사형수', '사회', '사회문제', '사회상', '사회생활', '사회악', '사회적', '사회주의', '사후', '삭막', '삭제', '산거', '산드라', '산드라블록', '산뜻', '산만', '산맥', '산물', '산부인과', '산악', '산업', '산은', '산자', '산전수전', '산책', '산타', '산트', '살기', '살리', '살리기', '살림', '살벌', '살색', '살수', '살아가', '살아나', '살아남', '살아오', '살의', '살인', '살인마', '살인범', '살인자', '살지', '살짝', '살찌', '살찐', '살펴보', '살포시', '살피', '살해', '삶이', '삼가', '삼각', '삼각관계', '삼국지', '삼류', '삼박자', '삼성', '삼순', '삼시', '삼위일체', '삼천포', '삼촌', '삼총사', '삼키', '삼형제', '삽입', '삽입곡', '상공', '상관', '상관없', '상관없이', '상금', '상급', '상기', '상남', '상납', '상담', '상당', '상당수', '상당히', '상대', '상대방', '상대적', '상도', '상류층', '상반', '상반기', '상사', '상상', '상상도', '상상력', '상속자', '상술', '상승', '상식', '상식적', '상실', '상실감', '상어', '상업', '상업적', '상영', '상영관', '상의', '상이', '상인', '상자', '상준', '상징', '상징적', '상책', '상처', '상쾌', '상큼', '상태', '상투적', '상품', '상하', '상호', '상황', '상황과', '새기', '새끼', '새드', '새로', '새로움', '새록새록', '새롭', '새벽', '새삼', '새엄마', '새옹지마', '새우', '색감', '색기', '색깔', '색다르', '색안경', '색이', '색즉시공', '색채', '색채감', '색체', '샌들러', '생각', '생각나', '생각하', '생기', '생김', '생김새', '생동감', '생뚱맞', '생략', '생명', '생명력', '생명체', '생물', '생방송', '생사', '생산', '생생', '생생히', '생선', '생소', '생애', '생의', '생일', '생전', '생존', '생존자', '생체', '생하', '생활', '샤넬', '샤론', '샤를', '샤를리즈', '샤말란', '샤오', '샤워', '샤이', '샤이니', '샤이닝', '샤인', '샤크', '샬롯', '샷건', '서구', '서극', '서글프', '서기', '서너', '서늘', '서독', '서동요', '서두르', '서랍', '서럽', '서로', '서론', '서리', '서막', '서먼', '서민', '서바이벌', '서방', '서부', '서부극', '서부영', '서브', '서비스', '서사', '서사시', '서서히', '서세원', '서술', '서스펜스', '서양', '서양인', '서영희', '서우', '서운', '서울', '서유', '서유기', '서인국', '서정', '서정적', '서준영', '서지', '서지석', '서커스', '서태지', '서투르', '서툴', '서편제', '서프라이즈', '서핑', '서하', '서해주', '서현진', '서형', '석양', '석이', '섞어', '섞이', '선거', '선고', '선곡', '선교', '선교사', '선남선녀', '선댄스', '선덕여왕', '선동', '선라이즈', '선량', '선리', '선명', '선문답', '선물', '선배', '선보이', '선비', '선사', '선생', '선셋', '선수', '선악', '선언', '선율', '선의', '선이', '선입견']\n"
          ],
          "name": "stdout"
        }
      ]
    },
    {
      "cell_type": "code",
      "metadata": {
        "colab": {
          "base_uri": "https://localhost:8080/"
        },
        "id": "AG4D5KrIqzfk",
        "outputId": "ddd8cb43-264f-4890-fd4b-cd329b0b149d"
      },
      "source": [
        "#머신러닝 알고리즘 적용\n",
        "import pandas as pd\n",
        "from sklearn.model_selection import cross_val_score\n",
        "from sklearn.linear_model import LogisticRegression\n",
        "y_train = pd.Series(train_data_senti)#리스트 형태를 종속변수가 될수 있는 1차 배열(Series)로 만든다\n",
        "\n",
        "lr = LogisticRegression(solver = 'liblinear')#모델생성\n",
        "lr.fit(X_train, y_train)"
      ],
      "execution_count": null,
      "outputs": [
        {
          "output_type": "execute_result",
          "data": {
            "text/plain": [
              "LogisticRegression(C=1.0, class_weight=None, dual=False, fit_intercept=True,\n",
              "                   intercept_scaling=1, l1_ratio=None, max_iter=100,\n",
              "                   multi_class='auto', n_jobs=None, penalty='l2',\n",
              "                   random_state=None, solver='liblinear', tol=0.0001, verbose=0,\n",
              "                   warm_start=False)"
            ]
          },
          "metadata": {
            "tags": []
          },
          "execution_count": 34
        }
      ]
    },
    {
      "cell_type": "code",
      "metadata": {
        "colab": {
          "base_uri": "https://localhost:8080/"
        },
        "id": "glquejEArXDE",
        "outputId": "99731496-7245-466a-9843-a4ba3a2b44e1"
      },
      "source": [
        "#테스트 데이터 입력\n",
        "X_test = vect.transform(test_data_text)\n",
        "y_test = pd.Series(test_data_senti)\n",
        "print(\"테스트 데이터 점수:\", lr.score(X_test, y_test))"
      ],
      "execution_count": null,
      "outputs": [
        {
          "output_type": "stream",
          "text": [
            "테스트 데이터 점수: 0.8094643399601714\n"
          ],
          "name": "stdout"
        }
      ]
    },
    {
      "cell_type": "code",
      "metadata": {
        "colab": {
          "base_uri": "https://localhost:8080/"
        },
        "id": "IjwxpLe0rc9i",
        "outputId": "adc7db15-e65b-48eb-e546-cb7d759b6532"
      },
      "source": [
        "# 형태소분석기 시작\n",
        "import rhinoMorph\n",
        "rn = rhinoMorph.startRhino()\n",
        "\n",
        "new_input =  '오늘은 정말 재미있는 하루구나!'\n",
        "inputdata = []\n",
        "morphed_input = rhinoMorph.onlyMorph_list(\n",
        "    rn, new_input, pos=['NNG', 'NNP', 'VV', 'VA', 'XR', 'IC', 'MM', 'MAG', 'MAJ'])\n",
        "morphed_input = ' '.join(morphed_input) # ['오늘', '정말', '재미있', '하루＇]를 한 개 문자열로 변환\n",
        "\n",
        "inputdata.append(morphed_input) # 분석 결과를 리스트로 만들기\n",
        "print('input data:', inputdata) # ['오늘 정말 재미있 하루']"
      ],
      "execution_count": null,
      "outputs": [
        {
          "output_type": "stream",
          "text": [
            "filepath:  /usr/local/lib/python3.7/dist-packages\n",
            "classpath:  /usr/local/lib/python3.7/dist-packages/rhinoMorph/lib/rhino.jar\n",
            "JVM is already started~\n",
            "RHINO started!\n",
            "input data: ['오늘 정말 재미있 하루']\n"
          ],
          "name": "stdout"
        }
      ]
    },
    {
      "cell_type": "code",
      "metadata": {
        "colab": {
          "base_uri": "https://localhost:8080/"
        },
        "id": "HMI2tw5Yu7Vh",
        "outputId": "a6996a74-d4e6-4a35-8bbd-3c1130b659ef"
      },
      "source": [
        "#1개 데이터 예측\n",
        "X_input = vect.transform(inputdata) # 앞에서 만든 11445 컬럼의 행렬에 적용\n",
        "result = lr.predict(X_input) # 0은 부정,1은 긍정\n",
        "\n",
        "if result == \"0\" : # 문자열 형태로 출력된다\n",
        "    print(\"부정적인 글입니다\")\n",
        "else:\n",
        "    print(\"긍정적인 글입니다\")"
      ],
      "execution_count": null,
      "outputs": [
        {
          "output_type": "stream",
          "text": [
            "긍정적인 글입니다\n"
          ],
          "name": "stdout"
        }
      ]
    },
    {
      "cell_type": "code",
      "metadata": {
        "id": "6J7QcwrhvDbk"
      },
      "source": [
        ""
      ],
      "execution_count": null,
      "outputs": []
    }
  ]
}