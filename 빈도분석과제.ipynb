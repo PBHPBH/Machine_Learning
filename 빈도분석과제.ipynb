{
  "nbformat": 4,
  "nbformat_minor": 0,
  "metadata": {
    "colab": {
      "name": "빈도분석과제.ipynb",
      "provenance": [],
      "collapsed_sections": [],
      "mount_file_id": "1Craq3uu6qca3Ebc5Bkv8-1XEnvjc9biJ",
      "authorship_tag": "ABX9TyOvqGI1mVZwxbxMLyn0g+1r",
      "include_colab_link": true
    },
    "kernelspec": {
      "name": "python3",
      "display_name": "Python 3"
    },
    "language_info": {
      "name": "python"
    }
  },
  "cells": [
    {
      "cell_type": "markdown",
      "metadata": {
        "id": "view-in-github",
        "colab_type": "text"
      },
      "source": [
        "<a href=\"https://colab.research.google.com/github/PBHPBH/Machine_Learning/blob/NLP/%EB%B9%88%EB%8F%84%EB%B6%84%EC%84%9D%EA%B3%BC%EC%A0%9C.ipynb\" target=\"_parent\"><img src=\"https://colab.research.google.com/assets/colab-badge.svg\" alt=\"Open In Colab\"/></a>"
      ]
    },
    {
      "cell_type": "code",
      "metadata": {
        "colab": {
          "base_uri": "https://localhost:8080/"
        },
        "id": "N1DUrR__qrmB",
        "outputId": "4389c11f-a8d2-4012-a588-9bac850cf0d5"
      },
      "source": [
        "from google.colab import drive\n",
        "drive.mount('/content/gdrive')"
      ],
      "execution_count": null,
      "outputs": [
        {
          "output_type": "stream",
          "text": [
            "Mounted at /content/gdrive\n"
          ],
          "name": "stdout"
        }
      ]
    },
    {
      "cell_type": "code",
      "metadata": {
        "colab": {
          "base_uri": "https://localhost:8080/"
        },
        "id": "ukprUBFvrGZa",
        "outputId": "d61ab6cb-d3d1-4237-e036-17bb545676eb"
      },
      "source": [
        "import matplotlib as mpl\n",
        "import matplotlib.pyplot as plt\n",
        "\n",
        "#그래프에서 한글표현을 위해 폰트 설치\n",
        "%config InlineBackend.figure_format = 'retina' # 폰트가 깨끗하게 보이도록 설정\n",
        "!apt install fonts-nanum # 나눔 폰트 설치\n",
        "import matplotlib.font_manager as fm\n",
        "fontpath = '/usr/share/fonts/truetype/nanum/NanumMyeongjo.ttf'\n",
        "font = fm.FontProperties(fname=fontpath, size=9)\n",
        "\n",
        "# 기본 글꼴 변경\n",
        "import matplotlib as mpl\n",
        "mpl.font_manager._rebuild()\n",
        "mpl.pyplot.rc('font', family='NanumMyeongjo')\n",
        "mpl.font_manager._rebuild()\n",
        "\n",
        "#한글의 올바른 인식을 위해 런타임 > 런타임 다시 시작"
      ],
      "execution_count": null,
      "outputs": [
        {
          "output_type": "stream",
          "text": [
            "Reading package lists... Done\n",
            "Building dependency tree       \n",
            "Reading state information... Done\n",
            "fonts-nanum is already the newest version (20170925-1).\n",
            "0 upgraded, 0 newly installed, 0 to remove and 76 not upgraded.\n"
          ],
          "name": "stdout"
        }
      ]
    },
    {
      "cell_type": "code",
      "metadata": {
        "id": "u2mI4vfGraSY",
        "colab": {
          "base_uri": "https://localhost:8080/"
        },
        "outputId": "93237e78-904d-42b4-8244-cbaf54b08480"
      },
      "source": [
        "#형태소분석기 관련 설치\n",
        "!apt-get update\n",
        "!apt-get install g++ openjdk-8-jdk\n",
        "\n",
        "!pip install JPype1\n",
        "!pip install rhinoMorph"
      ],
      "execution_count": null,
      "outputs": [
        {
          "output_type": "stream",
          "text": [
            "\r0% [Working]\r            \rHit:1 http://security.ubuntu.com/ubuntu bionic-security InRelease\n",
            "\r0% [Connecting to archive.ubuntu.com (91.189.88.152)] [Connecting to cloud.r-pr\r0% [1 InRelease gpgv 88.7 kB] [Connecting to archive.ubuntu.com (91.189.88.152)\r                                                                               \rHit:2 https://cloud.r-project.org/bin/linux/ubuntu bionic-cran40/ InRelease\n",
            "\r0% [1 InRelease gpgv 88.7 kB] [Connecting to archive.ubuntu.com (91.189.88.152)\r                                                                               \rIgn:3 https://developer.download.nvidia.com/compute/cuda/repos/ubuntu1804/x86_64  InRelease\n",
            "\r0% [1 InRelease gpgv 88.7 kB] [Waiting for headers] [Waiting for headers] [Wait\r                                                                               \rHit:4 http://ppa.launchpad.net/c2d4u.team/c2d4u4.0+/ubuntu bionic InRelease\n",
            "\r                                                                               \r0% [1 InRelease gpgv 88.7 kB] [Waiting for headers] [Waiting for headers]\r                                                                         \rHit:5 http://archive.ubuntu.com/ubuntu bionic InRelease\n",
            "\r0% [1 InRelease gpgv 88.7 kB] [Waiting for headers] [Connecting to ppa.launchpa\r                                                                               \rIgn:6 https://developer.download.nvidia.com/compute/machine-learning/repos/ubuntu1804/x86_64  InRelease\n",
            "Hit:7 https://developer.download.nvidia.com/compute/cuda/repos/ubuntu1804/x86_64  Release\n",
            "Hit:8 https://developer.download.nvidia.com/compute/machine-learning/repos/ubuntu1804/x86_64  Release\n",
            "Hit:9 http://archive.ubuntu.com/ubuntu bionic-updates InRelease\n",
            "Hit:10 http://archive.ubuntu.com/ubuntu bionic-backports InRelease\n",
            "Hit:11 http://ppa.launchpad.net/cran/libgit2/ubuntu bionic InRelease\n",
            "Hit:12 http://ppa.launchpad.net/deadsnakes/ppa/ubuntu bionic InRelease\n",
            "Hit:13 http://ppa.launchpad.net/graphics-drivers/ppa/ubuntu bionic InRelease\n",
            "Reading package lists... Done\n",
            "Reading package lists... Done\n",
            "Building dependency tree       \n",
            "Reading state information... Done\n",
            "g++ is already the newest version (4:7.4.0-1ubuntu2.3).\n",
            "openjdk-8-jdk is already the newest version (8u292-b10-0ubuntu1~18.04).\n",
            "0 upgraded, 0 newly installed, 0 to remove and 76 not upgraded.\n",
            "Requirement already satisfied: JPype1 in /usr/local/lib/python3.7/dist-packages (1.3.0)\n",
            "Requirement already satisfied: typing-extensions in /usr/local/lib/python3.7/dist-packages (from JPype1) (3.7.4.3)\n",
            "Requirement already satisfied: rhinoMorph in /usr/local/lib/python3.7/dist-packages (3.8.0.0)\n"
          ],
          "name": "stdout"
        }
      ]
    },
    {
      "cell_type": "code",
      "metadata": {
        "colab": {
          "base_uri": "https://localhost:8080/"
        },
        "id": "n36WJpXormyA",
        "outputId": "a2681211-86ba-471c-b24c-e7429a19a892"
      },
      "source": [
        "cd /content/gdrive/MyDrive/pytest"
      ],
      "execution_count": null,
      "outputs": [
        {
          "output_type": "stream",
          "text": [
            "/content/gdrive/MyDrive/pytest\n"
          ],
          "name": "stdout"
        }
      ]
    },
    {
      "cell_type": "code",
      "metadata": {
        "colab": {
          "base_uri": "https://localhost:8080/"
        },
        "id": "2LcfwVr4rzGW",
        "outputId": "9ecf46d3-2ef9-48b4-a8fa-dafc12a20a3b"
      },
      "source": [
        "ls"
      ],
      "execution_count": null,
      "outputs": [
        {
          "output_type": "stream",
          "text": [
            "\u001b[0m\u001b[01;34m네이버뉴스-생활문화_다중\u001b[0m/  negative.txt         test.csv\n",
            "\u001b[01;34maclImdb_v1_small\u001b[0m/          positive.txt         김소월시.txt\n",
            "alice.png                  pytest_position.png  윤동주시.txt\n",
            "\u001b[01;34mfra-eng\u001b[0m/                   ratings_morphed.txt  wiki_test.txt\n",
            "iris.csv                   ratings_small.txt    \u001b[01;34mword2vec\u001b[0m/\n",
            "\u001b[01;34mkor-eng\u001b[0m/                   \u001b[01;34msimilarity\u001b[0m/\n"
          ],
          "name": "stdout"
        }
      ]
    },
    {
      "cell_type": "code",
      "metadata": {
        "colab": {
          "base_uri": "https://localhost:8080/"
        },
        "id": "5wMXrv5GxJzS",
        "outputId": "74aeca07-bfde-4b66-b2a3-d5f1f3d5eaef"
      },
      "source": [
        "import rhinoMorph\n",
        "rn = rhinoMorph.startRhino()"
      ],
      "execution_count": null,
      "outputs": [
        {
          "output_type": "stream",
          "text": [
            "filepath:  /usr/local/lib/python3.7/dist-packages\n",
            "classpath:  /usr/local/lib/python3.7/dist-packages/rhinoMorph/lib/rhino.jar\n",
            "RHINO started!\n"
          ],
          "name": "stdout"
        }
      ]
    },
    {
      "cell_type": "markdown",
      "metadata": {
        "id": "wuxS9JsWxmot"
      },
      "source": [
        ""
      ]
    },
    {
      "cell_type": "code",
      "metadata": {
        "id": "yhZqZNoHr0Fs"
      },
      "source": [
        "def read_data(filename, encoding='utf-8'):\n",
        "    with open(filename, 'r', encoding=encoding) as f:\n",
        "        data = f.read()\n",
        "    return data\n",
        "\n",
        "def write_data(data, filename, encoding = 'utf-8'):\n",
        "    with open(filename, 'w', encoding=encoding) as f:\n",
        "        f.write(data)\n",
        "\n",
        "data1 = read_data('김소월시.txt', encoding='utf-8')\n",
        "data2 = read_data('윤동주시.txt', encoding='utf-8')"
      ],
      "execution_count": null,
      "outputs": []
    },
    {
      "cell_type": "code",
      "metadata": {
        "id": "SwD71bfJvDgM"
      },
      "source": [
        "morphed_data1 = rhinoMorph.onlyMorph_list(rn, data1, pos=['NNG', 'NNP', 'VV', 'VA', 'XR', 'IC', 'MM', 'MAG', 'MAJ'], eomi=True)\n",
        "morphed_data2 = rhinoMorph.onlyMorph_list(rn, data2, pos=['NNG', 'NNP', 'VV', 'VA', 'XR', 'IC', 'MM', 'MAG', 'MAJ'], eomi=True)"
      ],
      "execution_count": null,
      "outputs": []
    },
    {
      "cell_type": "code",
      "metadata": {
        "colab": {
          "base_uri": "https://localhost:8080/"
        },
        "id": "QrDNQCb1vaAs",
        "outputId": "839ad228-6bf1-4948-8537-a893d5ff8100"
      },
      "source": [
        "print(morphed_data1)"
      ],
      "execution_count": null,
      "outputs": [
        {
          "output_type": "stream",
          "text": [
            "['못', '잊다', '김', '소', '월', '못', '잊다', '생각', '그런대로', '한세상', '지내다', '사노', '잊히다', '날', '있다', '못', '잊다', '생각', '그런대로', '세월', '가다', '라', '못', '잊다', '잊히다', '그러나', '또', '한끝', '이렇다', '그립다', '살뜰히', '못', '잊다', '어쩌면', '생각', '뜨다', '지나다', '삭주', '구성', '물', '사흘', '배', '사흘', '멀다', '삼천리', '더더구나', '걷다', '넘다', '멀다', '삼천리', '삭주', '구성', '살다', '넘다', '요', '물', '맞다', '함빡', '히', '젖다', '제비', '가다', '비', '걸리다', '오노', '저녁', '높다', '살다', '밤', '높다', '살다', '삭주', '구성', '살다', '넘다', '멀다', '가끔가끔', '꿈', '다', '오다', '돌아오다', '길이', '서로', '떠나다', '몸', '몸', '그립다', '둔', '곳', '곳', '그립다', '못', '새들', '집', '그립다', '남북', '하다', '들다', '끝', '날아가다', '날다', '구름', '밤', '바로', '가', '텐', '삭주', '구성', '살다', '넘다', '멀다', '접동새', '접동', '접동', '아우', '비다', '접동', '진두', '강', '가람', '살다', '누나', '진두', '강', '앞마을', '오다', '울다', '옛날', '나라', '멀다', '뒤쪽', '진두', '강', '가람', '살다', '누나', '의붓어미', '시샘', '죽다', '누나', '부르다', '오오', '불다', '섧다', '시새움', '몸', '죽다', '누나', '죽다', '접동새', '되다', '남다', '되다', '랩', '동생', '죽다', '못', '잊다', '차마', '못', '잊다', '야삼경', '남', '다', '밤', '깊다', '이', '살다', '저', '살다', '옮아가다', '슬피', '울다', '멀다', '후일', '멀다', '훗날', '찾다', '그때', '말', '잊다', '속', '나무라다', '무척', '그리다', '잊다', '그래도', '나무라다', '믿기다', '잊다', '오늘', '어제', '잊다', '멀다', '훗날', '그때', '잊다', '살다', '살다', '새다', '오리나무', '위', '울다', '살다', '새다', '왜', '우노', '시', '메다', '살다', '골', '영', '넘다', '그래서', '울다', '눈', '내리다', '오다', '덮이다', '오늘', '하룻길', '돌아서다', '가다', '하다', '불귀', '불귀', '다시', '불귀', '삼수갑산', '다시', '불귀', '사나이', '속이다', '잊다', '년', '정분', '못', '잊다', '산', '오다', '눈', '물', '녹다', '눈', '살다', '새다', '오리나무', '위', '울다', '삼수갑산', '가다', '길', '고개', '길', '예전', '미처', '모르다', '봄', '가을', '없이', '밤', '돋다', '달', '예전', '미처', '모르다', '이렇게', '사무치다', '그립다', '예전', '미처', '모르다', '달이다', '암만', '밝다', '쳐다보다', '예전', '미처', '모르다', '이제', '금', '저', '달이다', '설움', '예전', '미처', '모르다', '원앙', '치다', '바드득', '이', '갈고다', '죽다', '창', '아롱아롱', '달이다', '비치다', '눈물', '새우잠', '팔굽', '베개', '보다', '꿩', '잠', '없다', '밤', '와', '울다', '동달이', '베개', '가다', '베갯머리', '죽다', '사다', '언약', '하다', '봄', '메', '멧', '기슭', '울다', '접동', '사랑', '사랑', '조히', '울', '동달이', '베개', '가다', '창', '아롱아롱', '달이다', '비치다', '바다', '변', '하다', '뽕나무', '밭', '되다', '걷잡다', '못하다', '이', '설움', '무', '봄', '저녁', '꽃잎', '꽃잎', '나부끼다', '예', '이르다', '말', '바다', '변', '하다', '뽕나무', '밭', '되다', '그러하다', '아름답다', '청춘', '때', '있다', '온갖', '눈', '서다', '다시금', '낯', '모르다', '되다', '서럽다', '보다', '삼월', '날', '붉은', '피다', '쏟다', '내리다', '저', '꽃잎', '저', '꽃잎', '노래', '그립다', '맑다', '노래', '언제나', '가슴', '젖다', '길다', '날', '문', '밖', '서다', '들다', '그립다', '고운', '노래다', '해지', '저물다', '귀', '들려오다', '밤', '들다', '잠들다', '귀', '들려오다', '고이도', '흔들리다', '노래', '가락', '잠', '그만', '깊이', '들다', '고적', '하다', '잠자리', '홀로', '누다', '잠', '포스', '근', '히', '깊이', '들다', '그러나', '깨다', '노래', '남김없이', '잃다', '들다', '듣다', '노래', '남김없이', '잊다', '말다', '눈', '오다', '저녁', '바람', '이', '저녁', '흰눈', '퍼붓다', '무엇', '계시', '같다', '저녁', '금년', '꿈', '꾸다', '잠들다', '만날', '런', '잊다', '그', '사람', '흰눈', '타다', '오다', '저녁때', '흰눈', '퍼붓다', '여울', '무슨', '일', '그리다', '하다', '홀로', '이', '개', '여울', '주저앉다', '파릇', '풀다', '포기', '돋다', '나오다', '잔', '물다', '봄바람', '해적', '때', '가다', '아주', '가다', '그러다', '하다', '약속', '있다', '날', '개', '여울', '나오다', '앉다', '하염없이', '생각', '가다', '아주', '가다', '심다', '굳이', '잊다', '마르다', '부탁', '길', '어제', '하루', '밤', '나그네', '집', '가마귀', '가다', '왁', '왁', '울다', '새다', '오늘', '또', '몇', '가다', '올라가다', '가다', '곳', '없다', '못', '가다', '말', '마소', '집', '정주', '곽산', '차', '가다', '배가', '곳', '여', '보다', '공중', '저', '기러기', '공중', '길', '있다', '잘', '가늘다', '여', '보다', '공중', '저', '기러기', '열다', '십자', '복판', '서다', '갈래갈래', '갈리다', '길', '길이', '이', '가다', '길', '없다', '진달래꽃', '역겹다', '가시다', '때', '말없이', '고이', '보내다', '드리다', '영변', '약산', '진달래꽃', '따다', '가시다', '길', '뿌리다', '가다', '걸음', '걸음', '놓이다', '그', '꽃', '사뿐히', '즈려', '밟다', '역겹다', '가시다', '때', '죽다', '눈물', '흘리다', '산유화', '산', '꽃', '피다', '꽃', '피다', '가다', '봄', '여름', '없이', '꽃', '피다', '피다', '꽃', '저만치', '혼자', '피다', '산', '울다', '작', '새다', '꽃', '좋다', '산', '사노', '산', '꽃', '지네', '꽃', '지네', '가다', '봄', '여름', '없이', '꽃', '지네', '초혼', '산산히', '부서지다', '이름', '허공', '헤어지다', '이름', '부르다', '주인', '없다', '이름', '부르다', '죽다', '이름', '심중', '남다', '말', '마디', '끝끝내', '마저', '하다', '사랑하다', '그', '사람', '사랑하다', '그', '사람', '붉은', '해', '서산', '마루', '걸리다', '사슴', '무리', '슬피', '울다', '떨어지다', '나가다', '앉다', '살다', '위', '이름', '부르노', '설', '겹다', '부르노', '설', '겹다', '부르노', '부르다', '소리', '빗기다', '하늘', '땅', '사이', '너무', '넓다', '선', '이', '자리', '돌이', '되다', '부르다', '죽다', '이름', '사랑하다', '그', '사람', '사랑하다', '그', '사람', '가다', '길', '그립다', '말', '하다', '그립다', '그냥', '가다', '그래도', '다시다', '더', '저', '가마귀', '가마귀', '서산', '하다', '지다', '지저귀다', '앞', '강물', '강물', '흐르다', '물', '어서', '따르다', '오다', '따르다', '흐르다', '연달다', '흐', '다리다']\n"
          ],
          "name": "stdout"
        }
      ]
    },
    {
      "cell_type": "code",
      "metadata": {
        "colab": {
          "base_uri": "https://localhost:8080/"
        },
        "id": "DpK9pnY9yM1y",
        "outputId": "aa4a734f-9979-445e-a521-4ea6c8916c7f"
      },
      "source": [
        "print(morphed_data2)"
      ],
      "execution_count": null,
      "outputs": [
        {
          "output_type": "stream",
          "text": [
            "['내일', '없다', '내일', '내일', '하다', '묻다', '밤', '동트다', '때', '내일', '새날', '찾다', '잠', '돌보다', '그때', '내일', '오늘', '동무', '내일', '없다', '희다', '그림자', '황혼', '짙다', '길', '모금', '하루', '종일', '시들다', '귀', '가만히', '기울이다', '땅거미', '옮기다', '발자취', '소리', '발자취', '소리', '듣다', '있다', '총명', '별', '헤다', '밤', '계절', '지나가다', '하늘', '가을', '가득', '차', '아무', '걱정', '없이', '가을', '속의', '별', '다', '헤이다', '하다', '가슴', '속', '새기다', '이제', '다', '못', '헤다', '쉬이', '아침', '오다', '까닭', '내일', '밤', '남다', '까닭', '아직', '청춘', '다', '하다', '까닭', '쉽다', '씌다', '여진', '시', '창밖', '밤비', '속살거리다', '육첩방', '남', '나라', '시인', '슬프다', '천명인', '알다', '하다', '적다', '병원', '늙다', '의사', '젊은이', '병', '모르다', '병', '없다', '이', '지나치다', '시련', '이', '지나치다', '피로', '성내다', '서다', '안', '되다', '새롭다', '길', '내', '건너서다', '숲', '고개', '넘다', '마을', '어제', '가다', '오늘', '가다', '길', '새롭다', '길', '아우', '인상화', '붉은', '이마', '싸늘', '달이다', '서리다', '아우', '얼굴', '슬프다', '그림', '발걸음', '멈추다', '살그머니', '앳되다', '손', '잡다', '자다', '되려', '사람', '되다', '아우', '진정코', '대답', '바람', '불다', '바람', '불어오다', '불리다', '바람', '부', '괴로움', '이유', '없다', '참회록', '파란', '녹이다', '끼이다', '구리거울', '속', '얼굴', '남다', '어느', '왕조', '유물', '이다지', '욕', '되다', '참회', '글', '하다', '주다', '줄이다', '만', '무슨', '기쁨', '바라다', '살아오다', '내일', '모레', '그', '어느', '즐겁다', '날', '또', '하다', '참회록', '쓰다', '봄', '극', '윤동주', '강하다', '늘다', '도쿄', '릿교', '대학', '영문학', '수업', '듣다', '써', '내려가다', '시', '등장', '봄', '혈관', '속', '시내', '흐르다', '돌', '돌', '시내', '가차', '울다', '언덕', '개나리', '진달래', '노랗다', '배추', '꽃', '동', '참다', '풀포기', '피어나다', '즐겁다', '종달새', '어느', '이랑', '즐거웁다', '솟다', '푸르르다', '하늘', '높다', '한데', '사랑', '추억', '기차다', '아무', '새롭다', '소식', '없이', '멀리', '싣다', '주다', '봄', '다', '가다', '동경', '교외', '어느', '조용', '하숙방', '옛', '거리', '남다', '희망', '사랑', '그립다', '오늘', '기차다', '무의미', '하다', '지나가다', '오늘', '날다', '기다리다', '정거장', '가깝다', '언덕', '서성거리다', '아아', '젊음', '오래', '남다', '공상', '말없이', '이', '탑', '쌓다', '있다', '명예', '허영', '천공', '무너지다', '모르다', '하다', '층', '두', '층', '높이', '쌓다', '자화상', '한', '사나이', '어쩐지', '그', '사나이', '밉다', '돌아가다', '돌아가다', '생각', '그', '사나이', '가엾다', '도로', '가', '들여다보다', '사나이', '그대로', '다시', '그', '사나이', '밉다', '돌아가다', '돌아가다', '생각', '그', '사나이', '그립다']\n"
          ],
          "name": "stdout"
        }
      ]
    },
    {
      "cell_type": "code",
      "metadata": {
        "id": "8GPpYiAByULQ"
      },
      "source": [
        "from collections import Counter"
      ],
      "execution_count": null,
      "outputs": []
    },
    {
      "cell_type": "code",
      "metadata": {
        "colab": {
          "base_uri": "https://localhost:8080/"
        },
        "id": "WkHd901AyaSO",
        "outputId": "0aeaa811-eaaf-4b43-b680-113f5a8ce476"
      },
      "source": [
        "md1_count = Counter(morphed_data1)\n",
        "md2_count = Counter(morphed_data2)\n",
        "print(md1_count)"
      ],
      "execution_count": null,
      "outputs": [
        {
          "output_type": "stream",
          "text": [
            "Counter({'가다': 21, '잊다': 17, '살다': 15, '하다': 11, '못': 10, '울다': 10, '그립다': 9, '죽다': 9, '꽃': 9, '멀다': 8, '길': 8, '밤': 7, '오다': 7, '이': 7, '저': 7, '들다': 6, '되다': 6, '모르다': 6, '피다': 6, '그': 6, '이름': 6, '넘다': 5, '저녁': 5, '부르다': 5, '말': 5, '새다': 5, '눈': 5, '산': 5, '예전': 5, '미처': 5, '봄': 5, '노래': 5, '사람': 5, '생각': 4, '날': 4, '있다': 4, '삭주': 4, '구성': 4, '물': 4, '곳': 4, '접동': 4, '누나': 4, '불귀': 4, '달이다': 4, '보다': 4, '없다': 4, '꽃잎': 4, '때': 4, '사랑하다': 4, '몸': 3, '집': 3, '진두': 3, '강': 3, '오늘': 3, '위': 3, '없이': 3, '베개': 3, '잠': 3, '서다': 3, '흰눈': 3, '여울': 3, '가마귀': 3, '공중': 3, '가시다': 3, '지네': 3, '부르노': 3, '그런대로': 2, '사노': 2, '잊히다': 2, '그러나': 2, '또': 2, '사흘': 2, '삼천리': 2, '히': 2, '젖다': 2, '걸리다': 2, '높다': 2, '꿈': 2, '다': 2, '길이': 2, '접동새': 2, '가람': 2, '남다': 2, '슬피': 2, '훗날': 2, '그때': 2, '나무라다': 2, '그리다': 2, '그래도': 2, '어제': 2, '오리나무': 2, '내리다': 2, '다시': 2, '삼수갑산': 2, '돋다': 2, '설움': 2, '창': 2, '아롱아롱': 2, '비치다': 2, '눈물': 2, '동달이': 2, '사랑': 2, '바다': 2, '변': 2, '뽕나무': 2, '밭': 2, '붉은': 2, '귀': 2, '들려오다': 2, '잠들다': 2, '깊이': 2, '홀로': 2, '남김없이': 2, '퍼붓다': 2, '개': 2, '나오다': 2, '아주': 2, '앉다': 2, '왁': 2, '여': 2, '기러기': 2, '진달래꽃': 2, '역겹다': 2, '걸음': 2, '여름': 2, '서산': 2, '설': 2, '겹다': 2, '강물': 2, '흐르다': 2, '따르다': 2, '김': 1, '소': 1, '월': 1, '한세상': 1, '지내다': 1, '세월': 1, '라': 1, '한끝': 1, '이렇다': 1, '살뜰히': 1, '어쩌면': 1, '뜨다': 1, '지나다': 1, '배': 1, '더더구나': 1, '걷다': 1, '요': 1, '맞다': 1, '함빡': 1, '제비': 1, '비': 1, '오노': 1, '가끔가끔': 1, '돌아오다': 1, '서로': 1, '떠나다': 1, '둔': 1, '새들': 1, '남북': 1, '끝': 1, '날아가다': 1, '날다': 1, '구름': 1, '바로': 1, '가': 1, '텐': 1, '아우': 1, '비다': 1, '앞마을': 1, '옛날': 1, '나라': 1, '뒤쪽': 1, '의붓어미': 1, '시샘': 1, '오오': 1, '불다': 1, '섧다': 1, '시새움': 1, '랩': 1, '동생': 1, '차마': 1, '야삼경': 1, '남': 1, '깊다': 1, '옮아가다': 1, '후일': 1, '찾다': 1, '속': 1, '무척': 1, '믿기다': 1, '왜': 1, '우노': 1, '시': 1, '메다': 1, '골': 1, '영': 1, '그래서': 1, '덮이다': 1, '하룻길': 1, '돌아서다': 1, '사나이': 1, '속이다': 1, '년': 1, '정분': 1, '녹다': 1, '고개': 1, '가을': 1, '달': 1, '이렇게': 1, '사무치다': 1, '암만': 1, '밝다': 1, '쳐다보다': 1, '이제': 1, '금': 1, '원앙': 1, '치다': 1, '바드득': 1, '갈고다': 1, '새우잠': 1, '팔굽': 1, '꿩': 1, '와': 1, '베갯머리': 1, '사다': 1, '언약': 1, '메': 1, '멧': 1, '기슭': 1, '조히': 1, '울': 1, '걷잡다': 1, '못하다': 1, '무': 1, '나부끼다': 1, '예': 1, '이르다': 1, '그러하다': 1, '아름답다': 1, '청춘': 1, '온갖': 1, '다시금': 1, '낯': 1, '서럽다': 1, '삼월': 1, '쏟다': 1, '맑다': 1, '언제나': 1, '가슴': 1, '길다': 1, '문': 1, '밖': 1, '고운': 1, '노래다': 1, '해지': 1, '저물다': 1, '고이도': 1, '흔들리다': 1, '가락': 1, '그만': 1, '고적': 1, '잠자리': 1, '누다': 1, '포스': 1, '근': 1, '깨다': 1, '잃다': 1, '듣다': 1, '말다': 1, '바람': 1, '무엇': 1, '계시': 1, '같다': 1, '금년': 1, '꾸다': 1, '만날': 1, '런': 1, '타다': 1, '저녁때': 1, '무슨': 1, '일': 1, '주저앉다': 1, '파릇': 1, '풀다': 1, '포기': 1, '잔': 1, '물다': 1, '봄바람': 1, '해적': 1, '그러다': 1, '약속': 1, '하염없이': 1, '심다': 1, '굳이': 1, '마르다': 1, '부탁': 1, '하루': 1, '나그네': 1, '몇': 1, '올라가다': 1, '마소': 1, '정주': 1, '곽산': 1, '차': 1, '배가': 1, '잘': 1, '가늘다': 1, '열다': 1, '십자': 1, '복판': 1, '갈래갈래': 1, '갈리다': 1, '말없이': 1, '고이': 1, '보내다': 1, '드리다': 1, '영변': 1, '약산': 1, '따다': 1, '뿌리다': 1, '놓이다': 1, '사뿐히': 1, '즈려': 1, '밟다': 1, '흘리다': 1, '산유화': 1, '저만치': 1, '혼자': 1, '작': 1, '좋다': 1, '초혼': 1, '산산히': 1, '부서지다': 1, '허공': 1, '헤어지다': 1, '주인': 1, '심중': 1, '마디': 1, '끝끝내': 1, '마저': 1, '해': 1, '마루': 1, '사슴': 1, '무리': 1, '떨어지다': 1, '나가다': 1, '소리': 1, '빗기다': 1, '하늘': 1, '땅': 1, '사이': 1, '너무': 1, '넓다': 1, '선': 1, '자리': 1, '돌이': 1, '그냥': 1, '다시다': 1, '더': 1, '지다': 1, '지저귀다': 1, '앞': 1, '어서': 1, '연달다': 1, '흐': 1, '다리다': 1})\n"
          ],
          "name": "stdout"
        }
      ]
    },
    {
      "cell_type": "code",
      "metadata": {
        "id": "J8coJl0my4ot"
      },
      "source": [
        "sortedk_mdc1 = sorted(md1_count, key= md1_count.get, reverse =True)\n",
        "sortedk_mdc2 = sorted(md2_count, key=md2_count.get,reverse =True)\n",
        "sortedv_mdc1 = sorted(md1_count.values(), reverse=True)\n",
        "sortedv_mdc2 = sorted(md2_count.values(), reverse=True)"
      ],
      "execution_count": null,
      "outputs": []
    },
    {
      "cell_type": "code",
      "metadata": {
        "colab": {
          "base_uri": "https://localhost:8080/",
          "height": 269
        },
        "id": "52tW3F8Oy8VV",
        "outputId": "82b9684b-d4a8-47cd-f04b-94db2a3e6dc9"
      },
      "source": [
        "import matplotlib.pyplot as plt\n",
        "plt.bar(range(10), [y/732*100 for y in sortedv_mdc1][:10])\n",
        "plt.xticks(range(10), sortedk_mdc1[:10])\n",
        "plt.show()"
      ],
      "execution_count": null,
      "outputs": [
        {
          "output_type": "display_data",
          "data": {
            "image/png": "[encoded data removed]",
            "text/plain": [
              "<Figure size 432x288 with 1 Axes>"
            ]
          },
          "metadata": {
            "tags": [],
            "image/png": {
              "width": 369,
              "height": 252
            },
            "needs_background": "light"
          }
        }
      ]
    },
    {
      "cell_type": "code",
      "metadata": {
        "colab": {
          "base_uri": "https://localhost:8080/",
          "height": 266
        },
        "id": "G8CCSXBW04kn",
        "outputId": "789bbb82-6b8d-46fb-f2f9-88e592af52d4"
      },
      "source": [
        "import matplotlib.pyplot as plt\n",
        "plt.bar(range(10), [y/326*100 for y in sortedv_mdc2][:10])\n",
        "plt.xticks(range(10), sortedk_mdc2[:10])\n",
        "plt.show()"
      ],
      "execution_count": null,
      "outputs": [
        {
          "output_type": "display_data",
          "data": {
            "image/png": "[encoded data removed]",
            "text/plain": [
              "<Figure size 432x288 with 1 Axes>"
            ]
          },
          "metadata": {
            "tags": [],
            "image/png": {
              "width": 369,
              "height": 249
            },
            "needs_background": "light"
          }
        }
      ]
    },
    {
      "cell_type": "markdown",
      "metadata": {
        "id": "HcM6KMAp2c7g"
      },
      "source": [
        ""
      ]
    },
    {
      "cell_type": "code",
      "metadata": {
        "colab": {
          "base_uri": "https://localhost:8080/"
        },
        "id": "LtRaD7Qs2qwO",
        "outputId": "227e85c8-d0ec-4e1d-9e5f-550a01527cbd"
      },
      "source": [
        "!pip install wordcloud"
      ],
      "execution_count": null,
      "outputs": [
        {
          "output_type": "stream",
          "text": [
            "Requirement already satisfied: wordcloud in /usr/local/lib/python3.7/dist-packages (1.5.0)\n",
            "Requirement already satisfied: numpy>=1.6.1 in /usr/local/lib/python3.7/dist-packages (from wordcloud) (1.19.5)\n",
            "Requirement already satisfied: pillow in /usr/local/lib/python3.7/dist-packages (from wordcloud) (7.1.2)\n"
          ],
          "name": "stdout"
        }
      ]
    },
    {
      "cell_type": "code",
      "metadata": {
        "id": "oKVX8zkH3ndq"
      },
      "source": [
        ""
      ],
      "execution_count": null,
      "outputs": []
    }
  ]
}