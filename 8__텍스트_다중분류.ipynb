{
  "nbformat": 4,
  "nbformat_minor": 0,
  "metadata": {
    "colab": {
      "name": "8_ 텍스트 다중분류.ipynb",
      "provenance": [],
      "mount_file_id": "1fanikmp6aRx4FGtsWjODBmxDTyycfihp",
      "authorship_tag": "ABX9TyNoOs0Db93G+/p/7yH5lyPY",
      "include_colab_link": true
    },
    "kernelspec": {
      "name": "python3",
      "display_name": "Python 3"
    },
    "language_info": {
      "name": "python"
    }
  },
  "cells": [
    {
      "cell_type": "markdown",
      "metadata": {
        "id": "view-in-github",
        "colab_type": "text"
      },
      "source": [
        "<a href=\"https://colab.research.google.com/github/PBHPBH/Machine_Learning/blob/NLP/8__%ED%85%8D%EC%8A%A4%ED%8A%B8_%EB%8B%A4%EC%A4%91%EB%B6%84%EB%A5%98.ipynb\" target=\"_parent\"><img src=\"https://colab.research.google.com/assets/colab-badge.svg\" alt=\"Open In Colab\"/></a>"
      ]
    },
    {
      "cell_type": "code",
      "metadata": {
        "colab": {
          "base_uri": "https://localhost:8080/"
        },
        "id": "1MmnIx7CszDd",
        "outputId": "bb45fdd3-16d7-4c44-c59d-b068f67153cb"
      },
      "source": [
        "\n",
        "from google.colab import drive \n",
        "drive.mount('/content/gdrive/')\n",
        "naver_dir = '/content/gdrive/MyDrive/pytest/네이버뉴스-생활문화_다중/'"
      ],
      "execution_count": null,
      "outputs": [
        {
          "output_type": "stream",
          "text": [
            "Mounted at /content/gdrive/\n"
          ],
          "name": "stdout"
        }
      ]
    },
    {
      "cell_type": "code",
      "metadata": {
        "id": "76dnHYW5t_Ze"
      },
      "source": [
        "#Data Loading Preparation\n",
        "# 경로를 설정하고, 분류할 종류를 리스트로 만든다\n",
        "import os\n",
        "train_dir = os.path.join(naver_dir, 'train')\n",
        "test_dir = os.path.join(naver_dir, 'test')\n",
        "label_types = ['건강정보', '공연전시', '도로교통', '여행레저', '음식맛집', '자동차시승기', '종교', '책', '패션뷰티']"
      ],
      "execution_count": null,
      "outputs": []
    },
    {
      "cell_type": "code",
      "metadata": {
        "id": "HwMmCz0ZuSga"
      },
      "source": [
        "def make_texts_labels(dir, label_types, encode='utf8'): # texts와 labels 리스트를 만드는 함수\n",
        "    texts = []\n",
        "    labels = []\n",
        "    \n",
        "    for label_type in label_types:\n",
        "        dir_name = os.path.join(dir, label_type) # 각각의 label 폴더에 접근한다\n",
        "        for fname in os.listdir(dir_name):\n",
        "            if fname[-4:] == '.txt': # 마지막 4 글자가 .txt 로 끝나는지를 확인한다\n",
        "                f = open(os.path.join(dir_name, fname), encoding=encode)\n",
        "                texts.append(f.read()) # 텍스트를 읽어서 texts 리스트에 연결한다\n",
        "                f.close()\n",
        "                if label_type == label_types[0]: # 만약 현재 폴더가 '건강정보' 폴더라면\n",
        "                    labels.append(0) # texts와 같은 순서의 labels 리스트에는 0을 저장한다\n",
        "                elif label_type == label_types[1]:\n",
        "                    labels.append(1)\n",
        "                elif label_type == label_types[2]:\n",
        "                    labels.append(2)\n",
        "                elif label_type == label_types[3]:\n",
        "                    labels.append(3)\n",
        "                elif label_type == label_types[4]:\n",
        "                    labels.append(4)\n",
        "                elif label_type == label_types[5]:\n",
        "                    labels.append(5)\n",
        "                elif label_type == label_types[6]:\n",
        "                    labels.append(6)\n",
        "                elif label_type == label_types[7]:\n",
        "                    labels.append(7)\n",
        "                elif label_type == label_types[8]:\n",
        "                    labels.append(8)\n",
        "        return texts, labels"
      ],
      "execution_count": null,
      "outputs": []
    },
    {
      "cell_type": "code",
      "metadata": {
        "colab": {
          "base_uri": "https://localhost:8080/"
        },
        "id": "5bXdu01_uzdn",
        "outputId": "0ef98913-ab5a-44ab-920f-e47e96430c72"
      },
      "source": [
        "#Train Data Loading\n",
        "# 훈련 데이터의 텍스트와 라벨을 받아온다\n",
        "texts, labels = make_texts_labels(train_dir, label_types)\n",
        "\n",
        "print('texts 0:', texts[0])\n",
        "print('texts len:', len(texts))\n",
        "print('labels 0:', labels[0])\n",
        "print('labels len:', len(labels))"
      ],
      "execution_count": null,
      "outputs": [
        {
          "output_type": "stream",
          "text": [
            "texts 0: 라즈베리 로즈 입은 LG `G6` : 네이버 뉴스\n",
            "\n",
            "\n",
            "\n",
            "\n",
            "\n",
            "\n",
            "\n",
            "LG전자가 밸런타인데이 날인 14일 이동통신 3사를 통해 매혹적인 장밋빛으로 인기를 끌고 있는 '라즈베리 로즈' 색상을 입힌 LG G6를 출시한다. LG전자 모델이 'G6 라즈베리 로즈'를 소개하고 있다.  LG전자 제공                                                                             디지털타임스 홈페이지 바로가기 / SNS 바로가기디지털타임스 영문뉴스 바로가기 / 카드뉴스 바로가기\n",
            "\n",
            "\n",
            "texts len: 10\n",
            "labels 0: 0\n",
            "labels len: 10\n"
          ],
          "name": "stdout"
        }
      ]
    },
    {
      "cell_type": "code",
      "metadata": {
        "id": "XNKoDxUKu6M-"
      },
      "source": [
        "\n",
        "#Analyzing Morphology\n",
        "!apt-get update\n",
        "!apt-get install g++ openjdk-8-jdk\n",
        "!pip install JPype1\n",
        "!pip install rhinoMorph\n",
        "# 한글은 tokenizing을 위해서 먼저 형태소분석을 해야 한다\n",
        "import rhinoMorph\n",
        "rn = rhinoMorph.startRhino() \n",
        "# 리스트 컴프리헨션으로 실질형태소만을 리스트로 가져온다\n",
        "texts = [rhinoMorph.onlyMorph_list(rn, sentence, pos=['NNG', 'NNP', 'NP', 'VV', 'VA', 'XR', 'IC', 'MM', 'MAG', 'MAJ'], eomi=False) for sentence in texts]\n",
        "print(texts[0])"
      ],
      "execution_count": null,
      "outputs": []
    },
    {
      "cell_type": "code",
      "metadata": {
        "id": "OpdHedX5u_L_"
      },
      "source": [
        "#Data Tokenizing\n",
        "%tensorflow_version 2.x\n",
        "from tensorflow.keras.preprocessing.text import Tokenizer\n",
        "from tensorflow.keras.preprocessing.sequence import pad_sequences\n",
        "import numpy as np\n",
        "import math\n",
        "\n",
        "validation_ratio = math.floor(len(texts) * 0.3) # 30%는 검증데이터로 사용한다. 나머지는 훈련데이터\n",
        "max_words = 10000 # 데이터셋에서 가장 빈도 높은 10,000 개의 단어만 사용한다\n",
        "maxlen = 200 # 200개 이후의 단어는 버린다\n",
        "class_number = 9 # 분류할 클래스의 수\n",
        "\n",
        "tokenizer = Tokenizer(num_words=max_words) # 상위빈도 10,000 개의 단어만을 추려내는 Tokenizer 객체 생성\n",
        "tokenizer.fit_on_texts(texts) # 단어 인덱스를 구축한다\n",
        "word_index = tokenizer.word_index # 단어 인덱스만 가져온다"
      ],
      "execution_count": null,
      "outputs": []
    },
    {
      "cell_type": "code",
      "metadata": {
        "colab": {
          "base_uri": "https://localhost:8080/"
        },
        "id": "1St6e7Mbzmq2",
        "outputId": "9e5c110f-a2a7-4b0d-9166-a6ba2f24417d"
      },
      "source": [
        "#Tokenizing 결과 확인\n",
        "# 전체 데이터가 가지고 있는 토큰의 수를 보여준다. texts_to_sequences()를 거쳐야 10,000개만 남는다. \n",
        "print('전체에서 %s개의 고유한 토큰을 찾았습니다.' % len(word_index))\n",
        "print('word_index type: ', type(word_index))\n",
        "print('word_index: ', word_index)"
      ],
      "execution_count": null,
      "outputs": [
        {
          "output_type": "stream",
          "text": [
            "전체에서 1300개의 고유한 토큰을 찾았습니다.\n",
            "word_index type:  <class 'dict'>\n",
            "word_index:  {'하': 1, '되': 2, '있': 3, '자궁': 4, '뉴스': 5, '가': 6, '바로': 7, '적출술': 8, '받': 9, '여성': 10, '연구': 11, '이': 12, '약': 13, '및': 14, '경우': 15, '질환': 16, '백신': 17, '치료': 18, '수술': 19, '귀화': 20, '대하': 21, '개발': 22, '로': 23, '높': 24, '헬스': 25, '한약사': 26, '티': 27, '네이버': 28, '위하': 29, '노': 30, '바이러스': 31, '후': 32, '없': 33, '케어': 34, '인수': 35, '정부': 36, '한약': 37, '시장': 38, '대웅제약': 39, '종근당': 40, '통하': 41, '디지털': 42, '타임스': 43, '등': 44, '군': 45, '대조': 46, '스포츠서울': 47, '가속기': 48, '보': 49, '작년': 50, '성장': 51, '따르': 52, '환자': 53, '난소': 54, '폐경': 55, '린': 56, '한국콜마': 57, '업계': 58, '정책': 59, '글': 60, '발생': 61, '사업': 62, '의약품': 63, '계획': 64, '결과': 65, '자궁근종': 66, '국적': 67, '외국인': 68, '리아': 69, 'sns': 70, '최근': 71, 'sk': 72, '케미칼': 73, '평창': 74, '올림픽': 75, '증상': 76, '문제': 77, '한국': 78, '제약': 79, '산업': 80, '제품': 81, '알': 82, '지진': 83, '연구소': 84, '그': 85, '국가': 86, '투자': 87, '위원회': 88, '기록': 89, '주': 90, '적출': 91, '심혈관': 92, '치료법': 93, '보존': 94, '기능': 95, '한': 96, '사모': 97, '펀드': 98, '기업': 99, '의무': 100, '한의약': 101, '자폐증': 102, '치료제': 103, 'lg': 104, '홈페이지': 105, '영문': 106, '카드': 107, '방사': 108, '포항': 109, '기술': 110, '정보': 111, '말하': 112, '크': 113, '김': 114, '생산': 115, '감염자': 116, '예방': 117, '손': 118, '기준': 119, '정도': 120, '겪': 121, '이상': 122, '배': 123, '진행': 124, '처방': 125, '다른': 126, '또': 127, '변화': 128, '증가': 129, '공식': 130, '확대': 131, '자회사': 132, '복무': 133, '병역': 134, '대표': 135, '사회': 136, '회': 137, '부회장': 138, '전년': 139, '대비': 140, '자폐': 141, '전자': 142, '출시': 143, '체계': 144, '다르': 145, '시설': 146, '지나': 147, '규모': 148, '때': 149, '물질': 150, '이번': 151, '설명': 152, '우리나라': 153, '김지섭': 154, '지섭': 155, '분사': 156, '결정': 157, '글로벌': 158, '다양': 159, '밝히': 160, '병': 161, '확진자': 162, '전': 163, '가능성': 164, '강하': 165, '같': 166, '안전': 167, '가장': 168, '관련': 169, '제보': 170, '미국': 171, '발표': 172, '필요': 173, '근종': 174, '김재욱': 175, '원장': 176, '나타나': 177, '수': 178, '의학': 179, '젊은': 180, '팀': 181, '대상': 182, '시행': 183, '고려': 184, '페이스북': 185, '자금': 186, '현재': 187, '관계자': 188, '검토': 189, '취득': 190, '비자': 191, '확인': 192, '국내': 193, '이민': 194, '국민': 195, '분업': 196, '발전': 197, '이기': 198, '개선': 199, '판권': 200, '논란': 201, '선두': 202, '복제': 203, '콜린': 204, '레이트': 205, '바이오': 206, '뉴': 207, '로벤': 208, '라즈': 209, '로즈': 210, '제공': 211, '장관': 212, '대응': 213, '당부': 214, '이날': 215, '노력': 216, '서비스': 217, '앞': 218, '영향': 219, '아울러': 220, '구축': 221, '진입': 222, '별도': 223, '법인': 224, '부문': 225, '유치': 226, '기여': 227, '계약': 228, '오': 229, '자체': 230, '감염': 231, '기자': 232, '반드시': 233, '익히': 234, '지역': 235, '오후': 236, '뒤': 237, '교수': 238, '오염': 239, '전염': 240, '후유증': 241, '지하수': 242, '만지': 243, '씻': 244, '걸리': 245, '가정': 246, '염소': 247, '소독제': 248, '강조': 249, '채널': 250, '무단': 251, '전재': 252, '배포': 253, '금지': 254, '대규모': 255, '여성일': 256, '더': 257, '제거': 258, '많': 259, '통': 260, '유발': 261, '병원': 262, '임신': 263, '증': 264, '건강': 265, '사이': 266, '관상동맥': 267, '비교': 268, '나': 269, '이런': 270, '조사': 271, '골': 272, '밀도': 273, '감소': 274, '느끼': 275, '목표': 276, '경쟁': 277, '제약사': 278, '후보': 279, '이에': 280, '확보': 281, '적극적': 282, '신약': 283, '임상': 284, '허가': 285, '한편': 286, '의무화': 287, '입영': 288, '입대': 289, '제도': 290, '체납': 291, '다문화': 292, '가족': 293, '기본': 294, '해당': 295, '법무부': 296, '자녀': 297, '가운데': 298, '우수': 299, '특별': 300, '도입': 301, '점': 302, '불법': 303, '여행': 304, '지원': 305, '신': 306, '전문': 307, '제제': 308, '갈등': 309, '대웅': 310, '원외': 311, '액': 312, '판매': 313, '선정': 314, '약이': 315, '오르': 316, '신찬영': 317, '조절': 318, '세가': 319, '버리': 320, '사': 321, '인기': 322, '끌': 323, '모델': 324, '유영민': 325, '갖추': 326, '방문': 327, '위기관리': 328, '과학': 329, '부': 330, '실험': 331, '장비': 332, '운영': 333, '복구': 334, '철저히': 335, '공동': 336, '다만': 337, '공급': 338, '일부': 339, '활용': 340, '연구자': 341, '단계': 342, '올해': 343, '설립': 344, '주력': 345, '회사': 346, '도약': 347, '예정': 348, '미래': 349, '세포': 350, '배양': 351, '차세대': 352, '독감': 353, '대상포진': 354, '비중': 355, '투자자': 356, '가치': 357, '성과': 358, '체결': 359, '방식': 360, '창출': 361, '경쟁력': 362, '본격화': 363, '복병': 364, '접촉': 365, '씻기': 366, '서울': 367, '줄': 368, '떠오르': 369, '동계': 370, '열리': 371, '집계': 372, '일': 373, '세계': 374, '체류': 375, '김진수': 376, '음식물': 377, '어린이': 378, '노인': 379, '우려': 380, '질병': 381, '이하': 382, '낮': 383, '대표적': 384, '채소': 385, '과일': 386, '구토': 387, '설사': 388, '열': 389, '동안': 390, '많이': 391, '굴': 392, '물': 393, '희석': 394, '청소': 395, '추천': 396, '방법': 397, '개인': 398, '효과적': 399, '코리아': 400, '노출': 401, '확률': 402, '마치': 403, '모': 404, '아이': 405, '확실': 406, '암': 407, '통합': 408, '선': 409, '근': 410, '권유': 411, '절제술': 412, '남기': 413, '분비': 414, '적용': 415, '생기': 416, '몸': 417, '박사': 418, '코': 419, '양성': 420, '이루': 421, '고지혈증': 422, '심부전': 423, '대사성': 424, '추적': 425, '호르몬': 426, '담당': 427, '높이': 428, '분석': 429, '위험': 430, '경향': 431, '무려': 432, '앞당기': 433, '듀크': 434, '비하': 435, '무엇': 436, '나서': 437, '절반': 438, '자연': 439, '성생활': 440, '기관': 441, '성교': 442, '질': 443, '건조': 444, '향후': 445, '상황': 446, '모두': 447, '맞춤': 448, '경향신문': 449, '설': 450, '전후': 451, '곳': 452, '유력': 453, '제일제당': 454, '우선': 455, '협상': 456, '매각': 457, '사전': 458, '입찰': 459, '그룹': 460, '뛰어들': 461, '화장품': 462, '위탁': 463, '전략': 464, '그러나': 465, '현금성': 466, '자산': 467, '그치': 468, '마련': 469, '가격': 470, '주요': 471, '상태': 472, '추가': 473, '매출': 474, '영업이익': 475, '위': 476, '내국인': 477, '형평': 478, '첫': 479, '육군': 480, '훈련소': 481, '부모': 482, '남성': 483, '방안': 484, '연장': 485, '건강보험': 486, '부당': 487, '이득금': 488, '범칙금': 489, '과태료': 490, '연석회의': 491, '형태': 492, '회의': 493, '자': 494, '얻': 495, '연령': 496, '한국인': 497, '낳': 498, '입국': 499, '인재': 500, '해외': 501, '제외': 502, '분야': 503, '선택': 504, '수립': 505, '양적': 506, '기존': 507, '유입': 508, '국제결혼': 509, '모바일': 510, '중앙일보': 511, '재': 512, '유기': 513, '시대': 514, '관심': 515, '통증': 516, '약물': 517, '한약학': 518, '활동': 519, '더욱': 520, '또한': 521, '유통': 522, '캐스트': 523, '야구': 524, '파이': 525, '유튜브': 526, '기사': 527, 'copyright': 528, '빚': 529, '우위': 530, '넘어가': 531, '대체': 532, '보이': 533, '팔': 534, '성공': 535, '약의': 536, '이전': 537, '특화': 538, '범주': 539, '억제제': 540, '국내외': 541, '기전': 542, '동물': 543, '다중': 544, '작용': 545, '핵심': 546, '동반': 547, '부작용': 548, '입': 549, '밸런타인데이': 550, '날인': 551, '이동통신': 552, '매혹적': 553, '장밋빛': 554, '색상': 555, '입히': 556, '베리': 557, '소개': 558, '과기': 559, '광가': 560, '속기': 561, '철저': 562, '통신': 563, '직원': 564, '둘러보': 565, '세대': 566, '안전장치': 567, '작동': 568, '중단': 569, '요원': 570, '분만': 571, '다행': 572, '임해': 573, '엑스레이': 574, '레이저': 575, '섬광': 576, '켜': 577, '미세': 578, '구조': 579, '거대': 580, '현미경': 581, '보유': 582, '건물': 583, '견디': 584, '설계': 585, '내부': 586, '전원': 587, '간': 588, '끊기': 589, '얼': 590, '가량': 591, '소요': 592, '유': 593, '기초과학': 594, '중추적': 595, '역할': 596, '수행': 597, '최대한': 598, '관리하': 599, '안정적': 600, '분리': 601, '프리미엄': 602, '안': 603, '공시': 604, '동력': 605, '육성': 606, '인프라': 607, '경북': 608, '안동': 609, '공장': 610, '하우스': 611, '짓': 612, '합성': 613, '전략적': 614, '본격적': 615, '기업공개': 616, '주주': 617, '제고': 618, '지속적': 619, '사노': 620, '피': 621, '파스퇴르': 622, '폐렴': 623, '구균': 624, '바탕': 625, '조심': 626, '경기장': 627, '출입문': 628, '보안': 629, '업무': 630, '군인': 631, '임세영': 632, '음식': 633, '음상': 634, '강릉': 635, '급증': 636, '보건': 637, '당국': 638, '긴장': 639, '조직': 640, '최고': 641, '늘': 642, '경기': 643, '명': 644, '계속': 645, '늘어나': 646, '서울성모병원': 647, '소화기': 648, '내과': 649, '사람': 650, '신속': 651, '입원': 652, '관리': 653, '본부': 654, '서울대병원': 655, '영하': 656, '온도': 657, '살아남': 658, '겨울철': 659, '식중독': 660, '균': 661, '주로': 662, '해조': 663, '문고리': 664, '시간': 665, '잠복기': 666, '거치': 667, '탈수': 668, '복통': 669, '근육통': 670, '두통': 671, '성인': 672, '흔하': 673, '시달리': 674, '단체': 675, '생활': 676, '학교': 677, '군대': 678, '요양원': 679, '외출': 680, '집': 681, '돌아오': 682, '입자': 683, '매우': 684, '작': 685, '비누': 686, '세정제': 687, '이용': 688, '손가락': 689, '손등': 690, '구석구': 691, '닦': 692, '되도록': 693, '어패': 694, '섭씨': 695, '끓이': 696, '마시': 697, '깨끗': 698, '먹': 699, '집안': 700, '화장실': 701, '변기': 702, '문': 703, '손잡이': 704, '밀리리터': 705, '섞': 706, '정기적': 707, '수질': 708, '검사': 709, '파악': 710, '공용': 711, '물탱크': 712, '노약자': 713, '수액': 714, '탈수증': 715, '항생제': 716, '진정제': 717, '식습관': 718, '위생': 719, '지키': 720, '예방법': 721, '포토': 722, '메인': 723, '설정': 724, '여러분': 725, '기다리': 726, '미치': 727, '가족계획': 728, '다': 729, '해결': 730, '주부': 731, '박': 732, '진단': 733, '듣': 734, '이야기': 735, '가지': 736, '생각': 737, '막상': 738, '마음': 739, '싱숭생숭': 740, '의사': 741, '묻': 742, '건수': 743, '나라': 744, '부인과': 745, '꼭': 746, '악화': 747, '양성종': 748, '양이': 749, '월경': 750, '과다': 751, '생리': 752, '생명': 753, '직접적': 754, '민트': 755, '센터': 756, '과거': 757, '위치': 758, '쉽': 759, '출산': 760, '중요': 761, '믿': 762, '실제로': 763, '자라': 764, '재발': 765, '시': 766, '여성호': 767, '발달': 768, '보존적': 769, '굳이': 770, '이유': 771, '학계': 772, '의견': 773, '빈도': 774, '신중히': 775, '씨앗': 776, '뽑': 777, '대신': 778, '도움말': 779, '일으키': 780, '알아보': 781, '북미': 782, '학회': 783, '학회지': 784, '실리': 785, '메이요': 786, '클리닉': 787, '힐': 788, '토마': 789, '논문': 790, '대사': 791, '주제': 792, '거주': 793, '동일': 794, '고혈압': 795, '비만': 796, '심부': 797, '정맥': 798, '보전': 799, '장기적': 800, '심장': 801, '두드러지': 802, '고르': 803, '그리고': 804, '완경': 805, '가임기': 806, '거의': 807, '빠르': 808, '당시': 809, '패트리': 810, '시아': 811, '매': 812, '과': 813, '나머지': 814, '기간': 815, '이르': 816, '그렇지': 817, '리스크': 818, '한쪽': 819, '절제': 820, '양쪽': 821, '증대': 822, '상대적': 823, '나이': 824, '갱년기': 825, '증후군': 826, '이른': 827, '기도': 828, '특별히': 829, '신체': 830, '상징적': 831, '심': 832, '요인': 833, '따라서': 834, '간혹': 835, '성욕': 836, '감퇴': 837, '분비물': 838, '우울증': 839, '신체적': 840, '접합': 841, '상부': 842, '유착': 843, '이후': 844, '양측': 845, '부위': 846, '끼치': 847, '하이': 848, '푸': 849, '동맥': 850, '색전': 851, '술': 852, '유리': 853, '조언': 854, '정답': 855, '근거': 856, '정립': 857, '존재': 858, '의료진': 859, '고집': 860, '상담': 861, '의학적': 862, '진정': 863, '정희원': 864, '트위터': 865, '무료': 866, '만화': 867, '파': 868, '협상자': 869, '충분': 870, '업': 871, '인수전': 872, '연휴': 873, '대상자': 874, '주관사': 875, '모건스탠리': 876, '전달': 877, '돌입': 878, '운용사': 879, '애인': 880, '컴퍼니': 881, '캐피탈': 882, '칼라일': 883, '분기': 884, '말': 885, '홀딩스': 886, '현금': 887, '포함': 888, '부족': 889, '전망': 890, '미래에셋': 891, '금융': 892, '계열': 893, '미래에셋자산운용': 894, '스틱': 895, '인베스트먼트': 896, '한국투자증권': 897, '빌리': 898, '중심': 899, '영업력': 900, '단숨에': 901, '자리': 902, '잡': 903, '일각': 904, '회의적': 905, '시각': 906, '수준': 907, '추정': 908, '다소': 909, '무리': 910, '참여': 911, '의지': 912, '대외적': 913, '드러내': 914, '이미': 915, '달성': 916, '얼마나': 917, '임': 918, '자금력': 919, '관측': 920, '역류': 921, '성식': 922, '염': 923, '테': 924, '고프라': 925, '잔': 926, '상': 927, '수족': 928, '구': 929, '개발과': 930, '힘': 931, '싣': 932, '긍정적': 933, '잠정': 934, '소폭': 935, '새해': 936, '행사': 937, '충남': 938, '논산': 939, '심사대': 940, '날': 941, '부사관': 942, '후보생': 943, '훈련병': 944, '총': 945, '향하': 946, '거수경례': 947, '시작': 948, '대한민국': 949, '젊은이': 950, '입소': 951, '김성태': 952, '의무적': 953, '서울청': 954, '이낙연': 955, '국무총리': 956, '주재': 957, '추진': 958, '확정': 959, '연': 960, '처음': 961, '총리': 962, '발언': 963, '안건': 964, '연관': 965, '유사': 966, '함께': 967, '원하': 968, '재혼': 969, '저': 970, '부인': 971, '남편': 972, '데리': 973, '그런': 974, '부여': 975, '반면': 976, '국적자': 977, '포기': 978, '복지': 979, '혜택': 980, '똑같이': 981, '누리': 982, '이행': 983, '지적': 984, '배경': 985, '통계': 986, '만': 987, '운동선수': 988, '연구원': 989, '독립': 990, '유공자': 991, '후손': 992, '여기': 993, '바이': 994, '슬론': 995, '출전': 996, '러시아': 997, '출신': 998, '선수': 999, '안티': 1000, '페이': 1001, '실제': 1002, '안팎': 1003, '추산': 1004, '국무조정실': 1005, '이민정': 1006, '책': 1007, '스포츠': 1008, '특정': 1009, '모셔': 1010, '지우': 1011, '과정': 1012, '이러': 1013, '치중': 1014, '질적': 1015, '고도화': 1016, '골자': 1017, '방향': 1018, '바꾸': 1019, '임금': 1020, '경력': 1021, '학력': 1022, '반영': 1023, '종합': 1024, '점수': 1025, '고소득': 1026, '고학력': 1027, '취지': 1028, '단순': 1029, '기능인': 1030, '일자리': 1031, '빼앗': 1032, '체류자': 1033, '적발': 1034, '퇴거': 1035, '한층': 1036, '강화': 1037, '부산': 1038, '산하': 1039, '특수': 1040, '대': 1041, '제주': 1042, '대전': 1043, '광주': 1044, '설치': 1045, '사회관계망서비스': 1046, '취업': 1047, '알선': 1048, '수집': 1049, '사이버': 1050, '전담': 1051, '신설': 1052, '면제': 1053, '인적': 1054, '사항': 1055, '입력': 1056, '단계적': 1057, '세금': 1058, '하나': 1059, '폭력': 1060, '피해': 1061, '이주': 1062, '임대주택': 1063, '늘리': 1064, '키우': 1065, '외국': 1066, '근로': 1067, '장려금': 1068, '결혼': 1069, '이주하': 1070, '베트남': 1071, '관': 1072, '파견': 1073, '중개': 1074, '인권침해': 1075, '실태': 1076, '감시': 1077, '기': 1078, '만나': 1079, '카카오': 1080, '플러스': 1081, '친구': 1082, '웹': 1083, 'jtbc': 1084, '제시': 1085, '고령': 1086, '접어들': 1087, '웰빙': 1088, '한방': 1089, '주목도': 1090, '갈수록': 1091, '시점': 1092, '증진': 1093, '전파': 1094, '앞장서': 1095, '모으': 1096, '약국': 1097, '청담': 1098, '국': 1099, '대입': 1100, '수능': 1101, '준비': 1102, '극심': 1103, '허리': 1104, '골반': 1105, '물리': 1106, '병행': 1107, '증세': 1108, '호전': 1109, '마침내': 1110, '복용': 1111, '고통': 1112, '굴레': 1113, '벗어나': 1114, '계기': 1115, '진학': 1116, '국가고시': 1117, '합격': 1118, '면허': 1119, '몸담': 1120, '여러': 1121, '무': 1122, '숙원': 1123, '시대적': 1124, '과제': 1125, '관철': 1126, '처방전': 1127, '공개': 1128, '그렇게': 1129, '투명': 1130, '신뢰도': 1131, '체계적': 1132, '의료': 1133, '가공': 1134, '조제': 1135, '현대인': 1136, '들이': 1137, '선호': 1138, '제형': 1139, '대중화': 1140, '과학화': 1141, '표준화': 1142, '산업화': 1143, '동시': 1144, '구현': 1145, '한의사': 1146, '긴밀': 1147, '협력': 1148, '체제': 1149, '가파르': 1150, '전통': 1151, '경제': 1152, '이바지': 1153, '후배': 1154, '강의': 1155, '모임': 1156, '만들': 1157, '학생': 1158, '명과': 1159, '소통': 1160, '복지관': 1161, '봉사': 1162, '공감대': 1163, '형성': 1164, '힘쓰': 1165, '단순히': 1166, '보약': 1167, '다이어트': 1168, '인체': 1169, '천연': 1170, '약재': 1171, '원인': 1172, '체질': 1173, '조제하': 1174, '간단': 1175, '감기': 1176, '고질적': 1177, '피부병': 1178, '만성': 1179, '난치': 1180, '효과': 1181, '뛰어나': 1182, '경계': 1183, '대한한의사협회': 1184, '해소': 1185, '한약재': 1186, '제조': 1187, '총력': 1188, '기울이': 1189, '피력': 1190, '판매량': 1191, '지위': 1192, '승기': 1193, '거두': 1194, '뇌': 1195, '약효': 1196, '삼': 1197, '이탈리아': 1198, '이탈': 1199, '파마': 1200, '들여오': 1201, '행정소송': 1202, '강행': 1203, '반발': 1204, '처가': 1205, '들어주': 1206, '마무리': 1207, '속': 1208, '활발': 1209, '유비': 1210, '트': 1211, '타': 1212, '밀': 1213, '재고': 1214, '정리': 1215, '수순': 1216, '들어가': 1217, '추격': 1218, '벌이': 1219, '틈새시장': 1220, '공략': 1221, '프라임': 1222, '그리': 1223, '지난해': 1224, '유한양행': 1225, '포아': 1226, '대원': 1227, '포': 1228, '클린': 1229, '도': 1230, '블록버스터': 1231, '반열': 1232, '셀': 1233, '트리': 1234, '리': 1235, '세이트': 1236, '상승': 1237, '치매': 1238, '책임': 1239, '경쟁적': 1240, '커지': 1241, '오리지널': 1242, '방어': 1243, '뇌신경': 1244, '보호': 1245, '벤처': 1246, '와': 1247, '주의력': 1248, '결핍': 1249, '잉': 1250, '증후': 1251, '도전장': 1252, '내': 1253, '건국대': 1254, '대학원': 1255, '정신': 1256, '유일하': 1257, '아직': 1258, '주목': 1259, '이온': 1260, '통로': 1261, '글루탐산': 1262, '수용체': 1263, '억제': 1264, '매진': 1265, '권리': 1266, '측정': 1267, '검색': 1268, '시스템': 1269, '효능': 1270, '평가': 1271, '장애': 1272, '반복': 1273, '과잉': 1274, '행동': 1275, '경련': 1276, '두뇌': 1277, '흥분': 1278, '결여': 1279, '각성제': 1280, '타입': 1281, '반응하': 1282, '대두': 1283, '현': 1284, '타킷': 1285, '화두': 1286, '착안': 1287, '없이': 1288, '중소': 1289, '벤처기업': 1290, '프로그램': 1291, '진력': 1292, '제품화': 1293, '파트너': 1294, '협력사': 1295, '혁명': 1296, '부응': 1297, '기능식': 1298, '품': 1299, '포부': 1300}\n"
          ],
          "name": "stdout"
        }
      ]
    },
    {
      "cell_type": "code",
      "metadata": {
        "colab": {
          "base_uri": "https://localhost:8080/"
        },
        "id": "hhLjyFPbzstF",
        "outputId": "e4f8b315-74cc-42f1-ce60-ea8d7fbaa0d9"
      },
      "source": [
        "#Data Sequencing\n",
        "# train 데이터를 Sequencing 한다\n",
        "# 상위 빈도 10,000개의 단어를 word_index의 숫자 리스트로 변환\n",
        "data = tokenizer.texts_to_sequences(texts) \n",
        "# maxlen의 수만큼으로 길이를 고정한다\n",
        "data = pad_sequences(data, maxlen=maxlen)\n",
        "print('data:', data)"
      ],
      "execution_count": null,
      "outputs": [
        {
          "output_type": "stream",
          "text": [
            "data: [[   0    0    0 ...    5    7    6]\n",
            " [   0    0    0 ...    6  114  155]\n",
            " [   0    0    0 ...    6  114  155]\n",
            " ...\n",
            " [1121  137 1122 ...  170  528   47]\n",
            " [ 118 1206  201 ...    6  114  155]\n",
            " [ 208   27   11 ...  170  528   47]]\n"
          ],
          "name": "stdout"
        }
      ]
    },
    {
      "cell_type": "code",
      "metadata": {
        "id": "23ikQ48Gz6wA"
      },
      "source": [
        "#One-Hot Encoding\n",
        "# 원-핫 인코딩 함수\n",
        "def to_one_hot(labels, dimension):\n",
        "    results = np.zeros((len(labels), dimension))\n",
        "    for i, label in enumerate(labels):\n",
        "        results[i, label] = 1.\n",
        "    return results\n",
        "\n",
        "# 입력층에는 원-핫-인코딩을 수행하지 않는다\n",
        "# data = to_one_hot(data, dimension=max_words)\n",
        "\n",
        "# 출력층만 원-핫-인코딩을 수행한다\n",
        "labels = to_one_hot(labels, dimension=class_number)"
      ],
      "execution_count": null,
      "outputs": []
    },
    {
      "cell_type": "code",
      "metadata": {
        "colab": {
          "base_uri": "https://localhost:8080/"
        },
        "id": "ybk19ZC40EHq",
        "outputId": "ee87dee7-7cee-4b55-c663-90d204dfacf7"
      },
      "source": [
        "#Train 데이터와 Validation 데이터 준비\n",
        "print('데이터 텐서의 크기:', data.shape) # (90, 200)\n",
        "print('레이블 텐서의 크기:', labels.shape) # (90, 9) data와 label이 모두 2D 텐서가 되었음\n",
        "\n",
        "indices = np.arange(data.shape[0]) # 0 ~ 89 까지의 숫자를 생성\n",
        "np.random.shuffle(indices) # 0 ~ 89 까지의 숫자를 랜덤하게 섞음\n",
        "data = data[indices] # 이것을 인덱스로 하여 2D 텐서 데이터를 섞음\n",
        "labels = labels[indices] # label도 같은 순서로 섞음\n",
        "\n",
        "x_train = data[validation_ratio:] # 훈련데이터의 70%를 훈련데이터\n",
        "y_train = labels[validation_ratio:] # 훈련데이터의 70%를 훈련데이터 Label\n",
        "x_val = data[:validation_ratio] # 훈련데이터의 30%를 검증데이터\n",
        "y_val = labels[:validation_ratio] # 훈련데이터의 30%를 검증데이터 Label"
      ],
      "execution_count": null,
      "outputs": [
        {
          "output_type": "stream",
          "text": [
            "데이터 텐서의 크기: (10, 200)\n",
            "레이블 텐서의 크기: (10, 9)\n"
          ],
          "name": "stdout"
        }
      ]
    },
    {
      "cell_type": "code",
      "metadata": {
        "colab": {
          "base_uri": "https://localhost:8080/"
        },
        "id": "GIZ-A6kL0NKB",
        "outputId": "a2d73783-e985-4bad-892d-9ae4c8d5cf9e"
      },
      "source": [
        "#모델 정의하기 – Word2Vec Embedding (1), 임베딩 딕셔너리 로딩\n",
        "# 단어와 임베딩 값의 딕셔너리 로딩\n",
        "filepath = '/content/gdrive/My Drive/pytest/'\n",
        "\n",
        "embeddings_index = {} \n",
        "f = open(os.path.join(filepath+'word2vec', 'embedding_window10_mincnt5_skipgram.txt'), encoding='utf-8') #_big은 CP949\n",
        "for line in f:\n",
        "    values = line.split() # 텍스트 파일의 각 행을 분리\n",
        "    word = values[0] # 각 행의 단어\n",
        "    coefs = np.asarray(values[1:], dtype='float32') # 각 단어의 임베딩값\n",
        "    embeddings_index[word] = coefs\n",
        "f.close()\n",
        "print('%s개의 단어 벡터를 찾았습니다.' % len(embeddings_index)) # 142161"
      ],
      "execution_count": null,
      "outputs": [
        {
          "output_type": "stream",
          "text": [
            "9870개의 단어 벡터를 찾았습니다.\n"
          ],
          "name": "stdout"
        }
      ]
    },
    {
      "cell_type": "code",
      "metadata": {
        "id": "Civdtf6U0Uiq"
      },
      "source": [
        "#모델 정의하기 – Word2Vec Embedding (2), 임베딩 행렬 구성\n",
        "# 임베딩 행렬 구성\n",
        "embedding_dim = 50\n",
        "embedding_matrix = np.zeros((max_words, embedding_dim)) # 0으로 채워진 빈 행렬 구성\n",
        "for word, i in word_index.items(): # word_index의 word와 index 추출\n",
        "    if i < max_words: # max_words 이하의 범위에서 순회\n",
        "        embedding_vector = embeddings_index.get(word) # 해당 단어의 임베딩 벡터 추출\n",
        "        if embedding_vector is not None:\n",
        "            embedding_matrix[i] = embedding_vector # 임베딩 값을 행렬의 해당 word_index 위치에 주입"
      ],
      "execution_count": null,
      "outputs": []
    },
    {
      "cell_type": "code",
      "metadata": {
        "id": "v-pgYRRX2o2h"
      },
      "source": [
        "#모델 정의하기 – Word2Vec Embedding (3), 임베딩 층 쌓기\n",
        "from tensorflow.keras import models\n",
        "from tensorflow.keras import layers\n",
        "\n",
        "model = models.Sequential() # 모델을 새로 정의\n",
        "\n",
        "# 임베딩을 하게 되면 embedding_dim을 값으로 갖는 층이 하나 늘게 된다(2D → 3D)\n",
        "# 따라서 다음에 Dense와 같이 2D를 입력으로 받는 층을 사용하려면 Flatten()을 통해 다시 2D로 차원을 축소한다\n",
        "# 만약 다음에 LSTM과 같은 3D(batch_size, input_length, feature_dim)를 입력으로 받는 순환신경망을 이용할 때는 Flatten() 없이 바로 사용하면 된다\n",
        "# input_length(=maxlen)은 나중에 임베딩된 입력을 Flatten 층에서 펼치기 위해 필요한 것이며, Flatten 하지 않는다면 생략 가능하다\n",
        "# Flatten 하게 되면 3D 임베딩 텐서를 (batch_size, input_length * output_dim) 크기의 2D 텐서로 펼친다\n",
        "model.add(layers.Embedding(input_dim=max_words, output_dim=embedding_dim, input_length=maxlen))\n",
        "model.add(layers.Flatten()) \n",
        "\n",
        "model.add(layers.Dense(units=32, activation='relu')) # 은닉층\n",
        "model.add(layers.Dense(units=class_number, activation='softmax')) # 출력층. 출력 노드는 class_number (9)"
      ],
      "execution_count": null,
      "outputs": []
    },
    {
      "cell_type": "code",
      "metadata": {
        "id": "zFfoQnJm2_ac"
      },
      "source": [
        "#모델 정의하기 – Word2Vec Embedding (4), 임베딩 행렬의 값 주입\n",
        "\n",
        "# 임베딩 층에 사전 훈련된 임베딩값 주입\n",
        "# 그리고 이 층은 훈련되지 못하도록 동결한다\n",
        "model.layers[0].set_weights([embedding_matrix])\n",
        "model.layers[0].trainable = False"
      ],
      "execution_count": null,
      "outputs": []
    },
    {
      "cell_type": "code",
      "metadata": {
        "id": "gWOeh8Y-3HyY"
      },
      "source": [
        "#모델 정의하기 – Keras Embedding\n",
        "\n",
        "from tensorflow.keras import models\n",
        "from tensorflow.keras import layers\n",
        "\n",
        "embedding_dim = 50 # 임베딩의 차원을 설정한다. 보통 50~200까지에서 적절히 설정한다\n",
        "model = models.Sequential() # 모델을 새로 정의\n",
        "\n",
        "# 임베딩을 하게 되면 embedding_dim을 값으로 갖는 층이 하나 늘게 된다(2D → 3D)\n",
        "# 따라서 다음에 Dense와 같이 2D를 입력으로 받는 층을 사용하려면 Flatten()을 통해 다시 2D로 차원을 축소한다\n",
        "# 만약 다음에 LSTM과 같은 3D(batch_size, input_length, feature_dim)를 입력으로 받는 순환신경망을 이용할 때는 Flatten() 없이 바로 사용하면 된다\n",
        "# Flatten 하게 되면 3D 임베딩 텐서를 (batch_size, input_length * output_dim) 크기의 2D 텐서로 펼친다\n",
        "model.add(layers.Embedding(input_dim=max_words, output_dim=embedding_dim, input_length=maxlen))\n",
        "model.add(layers.Flatten()) \n",
        "\n",
        "model.add(layers.Dense(units=32, activation='relu')) # 은닉층\n",
        "model.add(layers.Dense(units=class_number, activation='softmax')) # 출력층. 출력 노드는 class_number (9)"
      ],
      "execution_count": null,
      "outputs": []
    },
    {
      "cell_type": "code",
      "metadata": {
        "colab": {
          "base_uri": "https://localhost:8080/"
        },
        "id": "oniYJtO84SSD",
        "outputId": "49cc6965-9e7f-4d67-fc69-57f98aaa6a74"
      },
      "source": [
        "#모델 요약 출력\n",
        "model.summary()\n"
      ],
      "execution_count": null,
      "outputs": [
        {
          "output_type": "stream",
          "text": [
            "Model: \"sequential_1\"\n",
            "_________________________________________________________________\n",
            "Layer (type)                 Output Shape              Param #   \n",
            "=================================================================\n",
            "embedding_1 (Embedding)      (None, 200, 50)           500000    \n",
            "_________________________________________________________________\n",
            "flatten_1 (Flatten)          (None, 10000)             0         \n",
            "_________________________________________________________________\n",
            "dense_2 (Dense)              (None, 32)                320032    \n",
            "_________________________________________________________________\n",
            "dense_3 (Dense)              (None, 9)                 297       \n",
            "=================================================================\n",
            "Total params: 820,329\n",
            "Trainable params: 820,329\n",
            "Non-trainable params: 0\n",
            "_________________________________________________________________\n"
          ],
          "name": "stdout"
        }
      ]
    },
    {
      "cell_type": "code",
      "metadata": {
        "id": "D-kk7WB44ViD"
      },
      "source": [
        "#Compile Model\n",
        "#신경망의 출력이 확률이므로 오차값 계산은 crossentropy를 사용하는 것이 최선이다\n",
        "# 가중치 업데이트는 RMSprop을 사용하였다.\n",
        "# crossentropy는 원본의 확률 분포와 예측의 확률 분포를 측정하여 조절해 간다\n",
        "# 또한 다중 분류이므로 categorical_crossentropy를 사용한다\n",
        "model.compile(loss='categorical_crossentropy', optimizer='rmsprop', metrics=['acc'])"
      ],
      "execution_count": null,
      "outputs": []
    },
    {
      "cell_type": "code",
      "metadata": {
        "colab": {
          "base_uri": "https://localhost:8080/"
        },
        "id": "CAHjVoeo4bje",
        "outputId": "9fc9005f-2b00-4920-bfcc-a9254f5409a4"
      },
      "source": [
        "#Train Model\n",
        "# 32개씩 미니 배치를 만들어 10번의 epoch로 훈련\n",
        "# 훈련데이터로 훈련하고, 검증데이터로 검증한다\n",
        "# 반환값의 history는 훈련하는 동안 발생한 모든 정보를 담고 있는 딕셔너리이다\n",
        "history = model.fit(x_train, y_train, epochs=10, batch_size=32, validation_data=(x_val, y_val))\n",
        "history_dict = history.history"
      ],
      "execution_count": null,
      "outputs": [
        {
          "output_type": "stream",
          "text": [
            "Epoch 1/10\n",
            "1/1 [==============================] - 1s 1s/step - loss: 2.1715 - acc: 0.4286 - val_loss: 2.0770 - val_acc: 0.3333\n",
            "Epoch 2/10\n",
            "1/1 [==============================] - 0s 39ms/step - loss: 1.2455 - acc: 1.0000 - val_loss: 1.9259 - val_acc: 0.6667\n",
            "Epoch 3/10\n",
            "1/1 [==============================] - 0s 31ms/step - loss: 0.5098 - acc: 1.0000 - val_loss: 1.8013 - val_acc: 1.0000\n",
            "Epoch 4/10\n",
            "1/1 [==============================] - 0s 29ms/step - loss: 0.1790 - acc: 1.0000 - val_loss: 1.7229 - val_acc: 1.0000\n",
            "Epoch 5/10\n",
            "1/1 [==============================] - 0s 31ms/step - loss: 0.0835 - acc: 1.0000 - val_loss: 1.6748 - val_acc: 1.0000\n",
            "Epoch 6/10\n",
            "1/1 [==============================] - 0s 30ms/step - loss: 0.0522 - acc: 1.0000 - val_loss: 1.6398 - val_acc: 1.0000\n",
            "Epoch 7/10\n",
            "1/1 [==============================] - 0s 31ms/step - loss: 0.0370 - acc: 1.0000 - val_loss: 1.6120 - val_acc: 1.0000\n",
            "Epoch 8/10\n",
            "1/1 [==============================] - 0s 41ms/step - loss: 0.0281 - acc: 1.0000 - val_loss: 1.5885 - val_acc: 1.0000\n",
            "Epoch 9/10\n",
            "1/1 [==============================] - 0s 29ms/step - loss: 0.0222 - acc: 1.0000 - val_loss: 1.5681 - val_acc: 1.0000\n",
            "Epoch 10/10\n",
            "1/1 [==============================] - 0s 38ms/step - loss: 0.0181 - acc: 1.0000 - val_loss: 1.5501 - val_acc: 1.0000\n"
          ],
          "name": "stdout"
        }
      ]
    },
    {
      "cell_type": "code",
      "metadata": {
        "colab": {
          "base_uri": "https://localhost:8080/"
        },
        "id": "EAH3661y4kJV",
        "outputId": "1f09d981-9e67-43b4-e17f-0f5e477172cb"
      },
      "source": [
        "#경로 변경\n",
        "# 파일이 있는 곳으로 경로를 변경한다\n",
        "%cd /content/gdrive/My\\ Drive/pytest/"
      ],
      "execution_count": null,
      "outputs": [
        {
          "output_type": "stream",
          "text": [
            "/content/gdrive/My Drive/pytest\n"
          ],
          "name": "stdout"
        }
      ]
    },
    {
      "cell_type": "code",
      "metadata": {
        "id": "j3fSZ6UZ4qJI"
      },
      "source": [
        "#Save Model\n",
        "# multidimensional numpy arrays를 저장할 수 있는 h5 file(HDF) 포맷으로 저장한다\n",
        "model.save('text_multi_we_model.h5') # 모델 저장\n",
        "\n",
        "# 훈련데이터에서 사용된 상위빈도 10,000개의 단어로 된 Tokenizer 저장\n",
        "# 새로 입력되는 문장에서도 같은 단어가 추출되게 한다\n",
        "import pickle\n",
        "with open('text_multi_we_tokenizer.pickle', 'wb') as handle:\n",
        "    pickle.dump(tokenizer, handle, protocol=pickle.HIGHEST_PROTOCOL)"
      ],
      "execution_count": null,
      "outputs": []
    },
    {
      "cell_type": "code",
      "metadata": {
        "colab": {
          "base_uri": "https://localhost:8080/"
        },
        "id": "z5j6dqWV4wWM",
        "outputId": "0ada99c4-9ce5-489c-8a35-879f56d66e52"
      },
      "source": [
        "#Accuracy & Loss 확인\n",
        "# history 딕셔너리 안에 있는 정확도와 손실값을 가져와 본다\n",
        "acc = history.history['acc']\n",
        "val_acc = history.history['val_acc']\n",
        "loss = history.history['loss']\n",
        "val_loss = history.history['val_loss']\n",
        "print('Accuracy of each epoch:', acc) # [0.1111, 0.8412, 0.8571, 0.9047, 0.9682, 0.98412, 0.9682, 1.0, 1.0, 1.0]\n",
        "epochs = range(1, len(acc) +1) "
      ],
      "execution_count": null,
      "outputs": [
        {
          "output_type": "stream",
          "text": [
            "Accuracy of each epoch: [0.4285714328289032, 1.0, 1.0, 1.0, 1.0, 1.0, 1.0, 1.0, 1.0, 1.0]\n"
          ],
          "name": "stdout"
        }
      ]
    },
    {
      "cell_type": "code",
      "metadata": {
        "colab": {
          "base_uri": "https://localhost:8080/",
          "height": 313
        },
        "id": "zbUhteDk48Xd",
        "outputId": "330c7460-5f4d-476c-979e-4663598ac84e"
      },
      "source": [
        "#Plotting Accuracy\n",
        "\n",
        "# 정확도와 손실값의 변화를 보고, epoch를 어디에서 조절해야 할 지를 가늠한다.\n",
        "# 정확도가 떨어지는 구간, 손실값이 높게 나타나는 구간을 확인한다\n",
        "# 데이터가 큰 경우 대개 epoch를 늘려야 최적값에 도달한다\n",
        "import matplotlib.pyplot as plt\n",
        "\n",
        "# 정확도 그리기\n",
        "plt.plot(epochs, acc, 'bo', label='Training Acc')\n",
        "plt.plot(epochs, val_acc, 'b', label='Validation Acc')\n",
        "plt.title('Training and validation accuracy')\n",
        "plt.xlabel('Epochs')\n",
        "plt.ylabel('Accuracy')\n",
        "plt.legend() "
      ],
      "execution_count": null,
      "outputs": [
        {
          "output_type": "execute_result",
          "data": {
            "text/plain": [
              "<matplotlib.legend.Legend at 0x7f0008b51f10>"
            ]
          },
          "metadata": {
            "tags": []
          },
          "execution_count": 47
        },
        {
          "output_type": "display_data",
          "data": {
            "image/png": "[encoded data removed]",
            "text/plain": [
              "<Figure size 432x288 with 1 Axes>"
            ]
          },
          "metadata": {
            "tags": [],
            "needs_background": "light"
          }
        }
      ]
    },
    {
      "cell_type": "code",
      "metadata": {
        "colab": {
          "base_uri": "https://localhost:8080/",
          "height": 295
        },
        "id": "XPG1aKsu5D_H",
        "outputId": "f2b0ffcd-c168-4a08-cd4b-b9266e6e463a"
      },
      "source": [
        "#Plotting Loss\n",
        "\n",
        "plt.figure() # 새로운 그림을 그린다\n",
        "# 손실값 그리기\n",
        "plt.plot(epochs, loss, 'bo', label='Training Loss')\n",
        "plt.plot(epochs, val_loss, 'b', label='Validation Loss')\n",
        "plt.title('Training and validation loss')\n",
        "plt.xlabel('Epochs')\n",
        "plt.ylabel('loss')\n",
        "plt.legend() \n",
        "plt.show()\n"
      ],
      "execution_count": null,
      "outputs": [
        {
          "output_type": "display_data",
          "data": {
            "image/png": "[encoded data removed]",
            "text/plain": [
              "<Figure size 432x288 with 1 Axes>"
            ]
          },
          "metadata": {
            "tags": [],
            "needs_background": "light"
          }
        }
      ]
    },
    {
      "cell_type": "code",
      "metadata": {
        "colab": {
          "base_uri": "https://localhost:8080/"
        },
        "id": "atlepb7a5OCo",
        "outputId": "614d5add-aa53-421e-9620-8c6053377618"
      },
      "source": [
        "#Load Model\n",
        "import os\n",
        "from tensorflow.keras.models import load_model\n",
        "\n",
        "filepath = '/content/gdrive/My Drive/pytest/'\n",
        "os.chdir(filepath)\n",
        "print(\"Current Directory:\", os.getcwd())\n",
        "\n",
        "loaded_model = load_model('text_multi_we_model.h5')\n",
        "print(\"model loaded:\", loaded_model)\n",
        "\n",
        "with open('text_multi_we_tokenizer.pickle', 'rb') as handle:\n",
        "    loaded_tokenizer = pickle.load(handle)\n"
      ],
      "execution_count": null,
      "outputs": [
        {
          "output_type": "stream",
          "text": [
            "Current Directory: /content/gdrive/My Drive/pytest\n",
            "model loaded: <tensorflow.python.keras.engine.sequential.Sequential object at 0x7efffdc6f110>\n"
          ],
          "name": "stdout"
        }
      ]
    },
    {
      "cell_type": "code",
      "metadata": {
        "colab": {
          "base_uri": "https://localhost:8080/"
        },
        "id": "ZEcIKmLV5V3x",
        "outputId": "982897f3-a1be-4ee3-ef25-d88c50902fe7"
      },
      "source": [
        "#Test Data Loading\n",
        "# 테스트 데이터의 텍스트와 라벨을 받아온다\n",
        "texts, labels = make_texts_labels(test_dir, label_types)\n",
        "\n",
        "print('texts 0:', texts[0])\n",
        "print('texts len:', len(texts))\n",
        "print('labels 0:', labels[0])\n",
        "print('labels len:', len(labels))"
      ],
      "execution_count": null,
      "outputs": [
        {
          "output_type": "stream",
          "text": [
            "texts 0: ﻿나이 들어 아픈 허리 척추관협착증, 좁아진 신경통로 넓혀야 해결 가능\n",
            "\n",
            "척추 내 신경이 지나가는 통로가 좁아지는 척추관협착증은 대표적인 퇴행성 척추 질환으로, 60대 이후 나이 들어서 생긴 허리 통증은 척추협착증일 확률이 상당히 높다. 나이가 들면 노화현상으로 인해 누구에게나 척추관이 좁아지는 증세가 찾아오기 때문이다. 건강보험심사평가원 통계에 따르면 척추관협착증 환자 수는 2014년 128만 3861명에서 2017년 154만 3477명으로 4년간 20% 이상 증가한 것으로 나타났다. 척추관협착증 환자들은 유독 다리의 통증을 호소한다. 걸을 때 다리가 터질 듯한 통증으로 가다 서다를 반복하거나 허리를 굽히거나 앉으면 통증이 줄어드는 증상이 있다면 척추관협착증일 수 있다.\n",
            "\n",
            "부평힘찬병원 박진규 원장(신경외과 전문의)은 “척추관협착증은 척추 중앙의 척추관, 신경근관 또는 추간공이 좁아져 어느 부분이 협착되느냐에 따라 추간공협착증, 신경공협착증 등으로 세분화되기도 한다”며 “척추관이 연결된 목부터 꼬리뼈까지 어디에서든 발생할 수 있는데 대개 한 곳에서만 발생하기보다는 여러 곳에서 동시에 발생한다”고 설명했다.\n",
            "\n",
            "척추관협착증은 허리를 구부릴 수 있는 척추 관절과 척추를 잡아주는 인대가 두꺼워지면서 신경관이 좁아져 다리로 가는 신경을 누르며 발생하는 질환이다. 초기 단계라면 선택적 주사요법, 물리치료와 운동치료 등을 통한 보존적 치료로 효과를 얻을 수 있다. 꽤 좁아진 경우에는 추간공 협착증 풍선확장술을 시행할 수도 있다. 국소 마취하에 척추의 꼬리뼈 쪽으로 풍선이 달린 가느다란 특수 카테터를 삽입, 카테터 관에 약물을 주입해 풍선을 부풀려 척추관을 넓히는 시술이다.\n",
            "\n",
            "수술이 유일한 치료 방법일 경우도 있다. 통증이 심해 허리를 제대로 펴지 못하고, 5분 이상 걷기 힘들 때, 물리치료나 약물치료, 비수술 주사치료에도 더 이상 효과를 거둘 수 없을 때, 허리디스크와 동반되어 신경학적 결함이 뚜렷할 때 수술을 시행하게 된다. 수술은 척추관을 압박하는 요인들을 제거함으로써 척추관을 넓혀주는 방법이다. 환자의 나이와 증세, 부위, 통증 원인에 따라 다양한 수술방법이 있으나 퇴행성 변화로 척추를 감싸고 있는 관절이나 인대가 두꺼워진 경우 미세현미경적 후궁절제술 치료 사례가 늘고 있다.\n",
            "\n",
            "미세현미경을 통해 척추관을 보면서 신경을 누르고 있는 뼈와 인대를 제거하고, 두꺼워진 후관절과 황색인대에 눌려 있는 신경관을 넓혀주는 수술이다. 정상 관절을 최대한 보존하면서 눌린 신경을 풀어주고, 후궁절제는 양쪽 반을 제거하거나 전체 후궁을 제거하는 것, 후궁과 함께 후관절도 제거하는 방법 등 상황에 따라 적용한다. 절제술 후 척추 후궁을 성형하는 경우도 있는데, 척추뼈의 뒤쪽 후궁을 절골한 후 뼈를 제거하지 않고 기존의 상태를 최대한 유지시키면서 신경 압박을 치료할 수 있도록 성형해주는 방법이다.\n",
            "\n",
            "평소 허리를 비틀거나 구부리는 동작은 하지 않는 것이 좋다. 무거운 물건은 되도록 들지 않고, 척추의 부담을 줄이기 위해서는 정상 체중을 유지하는 것도 중요하다.\n",
            "\n",
            "■이럴 때 척추관협착증 의심하세요.\n",
            "\n",
            "통증 때문에 점점 걷는 거리가 줄어든다.\n",
            "\n",
            "걷다가 앉아있으면 통증이 줄어들다 다시 걸으면 통증도 돌아온다.\n",
            "\n",
            "엉덩이, 허벅지, 종아리, 발끝이 저리거나 아프고, 당긴다.\n",
            "\n",
            "밤에 종아리가 많이 아프고 운동이나 일을 하면 더 악화된다.\n",
            "\n",
            "허리를 앞으로 조금만 숙여도 통증이 덜하다.\n",
            "\n",
            "김문석 기자 kmseok@kyunghyang.com\n",
            "\n",
            "\n",
            "▶ [스포츠경향 인기 무료만화 보기]\n",
            "▶ [지금 옆사람이 보고있는 뉴스]\n",
            "\n",
            "©스포츠경향(sports.khan.co.kr), 무단전재 및 재배포 금지\n",
            "texts len: 3\n",
            "labels 0: 0\n",
            "labels len: 3\n"
          ],
          "name": "stdout"
        }
      ]
    },
    {
      "cell_type": "code",
      "metadata": {
        "colab": {
          "base_uri": "https://localhost:8080/"
        },
        "id": "qQ_Bqbw05fIt",
        "outputId": "6da37074-ebd3-4f8a-aeab-60bcab778204"
      },
      "source": [
        "# 로딩된 tokenizer로 test 데이터를 Sequencing 한다\n",
        "data = loaded_tokenizer.texts_to_sequences(texts) # 문자열을 숫자 리스트로 변환\n",
        "x_test = pad_sequences(data, maxlen=maxlen) # maxlen의 수만큼으로 길이를 고정한다\n",
        "print('data:', data)\n",
        "\n",
        "# label에 해당하는 부분만 one-hot-encoding 한다.\n",
        "# x_test = to_one_hot(data, dimension=max_words) # 실행하지 않음\n",
        "y_test = to_one_hot(labels, dimension=class_number)"
      ],
      "execution_count": null,
      "outputs": [
        {
          "output_type": "stream",
          "text": [
            "data: [[1104, 730, 1253, 844, 824, 1104, 53, 122, 149, 178, 176, 178, 96, 1121, 178, 769, 178, 1040, 18, 122, 149, 257, 122, 178, 149, 149, 1108, 846, 516, 15, 18, 598, 821, 967, 397, 44, 412, 32, 32, 598, 178, 693, 149, 516, 391, 257, 232, 322, 5, 14, 254], [1038, 1038, 232, 1038, 1158, 236, 967, 1217, 44, 677, 178], [44, 44, 63, 127, 343, 44, 471, 127, 1097, 591, 470, 844, 507, 151, 470, 135, 1097, 119, 71, 471, 44, 122, 343, 391, 343, 103, 232]]\n"
          ],
          "name": "stdout"
        }
      ]
    },
    {
      "cell_type": "code",
      "metadata": {
        "colab": {
          "base_uri": "https://localhost:8080/"
        },
        "id": "t7WVniLb5lx7",
        "outputId": "5174d448-ccf8-469b-fa7d-cefcec5483a9"
      },
      "source": [
        "#Test Data Evaluation\n",
        "# 원-핫 인코딩을 한 테스트데이터의 텍스트와 라벨을 입력한다\n",
        "test_eval = loaded_model.evaluate(x_test, y_test)\n",
        "print('prediction model loss & acc:', test_eval) # 최대 44.4% 까지 나왔다"
      ],
      "execution_count": null,
      "outputs": [
        {
          "output_type": "stream",
          "text": [
            "1/1 [==============================] - 0s 130ms/step - loss: 0.0474 - acc: 1.0000\n",
            "prediction model loss & acc: [0.047409165650606155, 1.0]\n"
          ],
          "name": "stdout"
        }
      ]
    },
    {
      "cell_type": "code",
      "metadata": {
        "colab": {
          "base_uri": "https://localhost:8080/"
        },
        "id": "rzcXSGzz5qcC",
        "outputId": "64e907fd-e717-4d11-cbe0-6c142d033276"
      },
      "source": [
        "predictions = loaded_model.predict(x_test)\n",
        "print('predictions shape:', predictions.shape)\n",
        "print('prediction 0 shape:', predictions[0].shape)\n",
        "print('prediction 0 sum', np.sum(predictions[0])) # 모든 분류에 대한 확률의 총합은 1이 되어야 한다\n",
        "print('prediction 0 value:', predictions[0]) # 9개 분류 각각에 대한 확률값\n",
        "print('prediction 0 max value:', np.argmax(predictions[0])) # prediction 0이 가지고 있는 가장 큰 값의 판정 결과\n",
        "print('prediction 1 max value:', np.argmax(predictions[1])) # prediction 1이 가지고 있는 가장 큰 값의 판정 결과\n",
        "print('prediction 2 max value:', np.argmax(predictions[2])) # prediction 2가 가지고 있는 가장 큰 값의 판정 결과"
      ],
      "execution_count": null,
      "outputs": [
        {
          "output_type": "stream",
          "text": [
            "predictions shape: (3, 9)\n",
            "prediction 0 shape: (9,)\n",
            "prediction 0 sum 1.0\n",
            "prediction 0 value: [0.948909   0.00854126 0.0099662  0.00551482 0.01093027 0.00387913\n",
            " 0.00493364 0.0022659  0.00505981]\n",
            "prediction 0 max value: 0\n",
            "prediction 1 max value: 0\n",
            "prediction 2 max value: 0\n"
          ],
          "name": "stdout"
        }
      ]
    },
    {
      "cell_type": "code",
      "metadata": {
        "colab": {
          "base_uri": "https://localhost:8080/"
        },
        "id": "aZa2mHtZ51W-",
        "outputId": "2b949e4c-a59b-4bb8-aaf0-3af454edd3f1"
      },
      "source": [
        "# 1개 데이터 예측\n",
        "text = [\"안녕하세요, 이것은 테스트 문장입니다.\"] # list 타입으로 만든다\n",
        "text=[rhinoMorph.onlyMorph_list(rn, sentence, pos=['NNG', 'NNP', 'NP', 'VV', 'VA', 'XR', 'IC', 'MM', 'MAG', 'MAJ'], eomi=False) for sentence in text]\n",
        "print('형태소 분석 결과:', text)\n",
        "\n",
        "data = loaded_tokenizer.texts_to_sequences(text)\n",
        "x_test = pad_sequences(data, maxlen=maxlen)\n",
        "\n",
        "predictions = loaded_model.predict(x_test)\n",
        "print(\"Result:\", predictions) # 각 분류에 대한 확률을 보여준다\n",
        "print(\"분류 결과:\", np.argmax(predictions[0])) # 가장 큰 확률값을 가진 분류 제시. 0~8 숫자 중 하나"
      ],
      "execution_count": null,
      "outputs": [
        {
          "output_type": "stream",
          "text": [
            "형태소 분석 결과: [['안녕', '하', '이것', '테스트', '문장']]\n",
            "Result: [[0.96024257 0.00676075 0.00781002 0.00418293 0.00848309 0.0030076\n",
            "  0.00378398 0.00174572 0.00398337]]\n",
            "분류 결과: 0\n"
          ],
          "name": "stdout"
        }
      ]
    },
    {
      "cell_type": "code",
      "metadata": {
        "id": "zWuqGuKY6Bde"
      },
      "source": [
        ""
      ],
      "execution_count": null,
      "outputs": []
    }
  ]
}